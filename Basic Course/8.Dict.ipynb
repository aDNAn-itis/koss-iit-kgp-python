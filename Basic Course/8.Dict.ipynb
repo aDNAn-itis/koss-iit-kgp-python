{
  "nbformat": 4,
  "nbformat_minor": 0,
  "metadata": {
    "kernelspec": {
      "display_name": "Python 3",
      "language": "python",
      "name": "python3"
    },
    "language_info": {
      "codemirror_mode": {
        "name": "ipython",
        "version": 3
      },
      "file_extension": ".py",
      "mimetype": "text/x-python",
      "name": "python",
      "nbconvert_exporter": "python",
      "pygments_lexer": "ipython3",
      "version": "3.6.8"
    },
    "colab": {
      "name": "8.Dict.ipynb",
      "provenance": [],
      "collapsed_sections": []
    }
  },
  "cells": [
    {
      "cell_type": "markdown",
      "metadata": {
        "id": "WEkFmxYZfT2o"
      },
      "source": [
        "## Dictionary\n",
        "Dictionaries consist of pairs (called items) of keys and their corresponding values. Python dictionaries are also known as associative arrays or hash tables.\n",
        "\n",
        "In comparison to a list, a list can be called a dict, with keys 0,1,2,3..\n",
        "\n",
        "Key value pairs."
      ]
    },
    {
      "cell_type": "code",
      "metadata": {
        "id": "Rnq7JHzLfT26"
      },
      "source": [
        "d = {}    # Defining an empty dict in python\n",
        "print(d)"
      ],
      "execution_count": null,
      "outputs": []
    },
    {
      "cell_type": "code",
      "metadata": {
        "id": "DjXIZ5EjfT29"
      },
      "source": [
        "print(type(d))"
      ],
      "execution_count": null,
      "outputs": []
    },
    {
      "cell_type": "markdown",
      "metadata": {
        "id": "_Rz8KFYNfT2-"
      },
      "source": [
        "The type function shows the type of the object.\n",
        "\n",
        "### Constructing a dict"
      ]
    },
    {
      "cell_type": "code",
      "metadata": {
        "id": "d7mjhdaQfT2_"
      },
      "source": [
        "d = {'Name': \"Alice\", 'Age': 21} \n",
        "print(d)"
      ],
      "execution_count": null,
      "outputs": []
    },
    {
      "cell_type": "code",
      "metadata": {
        "id": "VGyKpWQDfT3B"
      },
      "source": [
        "print(d['Name'])         # Accessing a value of a dict"
      ],
      "execution_count": null,
      "outputs": []
    },
    {
      "cell_type": "markdown",
      "metadata": {
        "id": "4cjm9cYmfT3C"
      },
      "source": [
        "### Modifying a dict"
      ]
    },
    {
      "cell_type": "code",
      "metadata": {
        "id": "NrvQJ2BufT3C"
      },
      "source": [
        "d['Age'] = 22\n",
        "print(d)"
      ],
      "execution_count": null,
      "outputs": []
    },
    {
      "cell_type": "markdown",
      "metadata": {
        "id": "hebW33nzfT3c"
      },
      "source": [
        "### Adding elements in a dict"
      ]
    },
    {
      "cell_type": "code",
      "metadata": {
        "id": "LOxBsYZpfT3f"
      },
      "source": [
        "d['Gender'] = 'Female'\n",
        "print(d)"
      ],
      "execution_count": null,
      "outputs": []
    },
    {
      "cell_type": "markdown",
      "metadata": {
        "id": "3ZL9VZkafT3g"
      },
      "source": [
        "### Removing elements from a dict"
      ]
    },
    {
      "cell_type": "code",
      "metadata": {
        "id": "DNPLsd2DfT3h"
      },
      "source": [
        "print(d)"
      ],
      "execution_count": null,
      "outputs": []
    },
    {
      "cell_type": "code",
      "metadata": {
        "id": "DwzQKtrmfT3i"
      },
      "source": [
        "del d['Age']\n",
        "print(d)"
      ],
      "execution_count": null,
      "outputs": []
    },
    {
      "cell_type": "markdown",
      "metadata": {
        "id": "08qQvftIfT3j"
      },
      "source": [
        "### Properties of Keys and Values\n",
        "\n",
        "Dictionary values have no restrictions. They can be any arbitrary Python object, either standard objects or user-defined objects. However, same is not true for the keys. \n",
        "\n",
        "Keys must be :\n",
        "\n",
        "+ Unique in the dictionary (i.e. repitition of keys is not allowed)\n",
        "+ Of immutable type  (i.e. Lists, for e.g. can't be used as a dict key)\n",
        "\n",
        "In short, They must be **hashable**\n",
        "\n"
      ]
    },
    {
      "cell_type": "code",
      "metadata": {
        "id": "IwAgWes0fT3l"
      },
      "source": [
        "d = {1: 'a', 2: 'b', 2: 'c'}         ## Note that keys are not unique\n",
        "print(d)"
      ],
      "execution_count": null,
      "outputs": []
    },
    {
      "cell_type": "code",
      "metadata": {
        "id": "Kk99OOH1fT3m"
      },
      "source": [
        "d = {1: 'a', 2: 'b', 3: 'b'}         ## Note that values are not unique\n",
        "print(d)"
      ],
      "execution_count": null,
      "outputs": []
    },
    {
      "cell_type": "code",
      "metadata": {
        "id": "x1h71KhvfT3n"
      },
      "source": [
        "d = {1: 'a', 'name': 'abc', 1.5: 2.5, 4: [1,2,3], 5: {'1':1, '2':2}}   \n",
        "print(d)"
      ],
      "execution_count": null,
      "outputs": []
    },
    {
      "cell_type": "code",
      "metadata": {
        "scrolled": true,
        "id": "6oi-IZBafT3z"
      },
      "source": [
        "d = {1: 'a', 'name': 'abc', [4]: [1,2,3], 5: {'1':1, '2':2}}   \n",
        "print(d)"
      ],
      "execution_count": null,
      "outputs": []
    },
    {
      "cell_type": "markdown",
      "metadata": {
        "id": "83WZS5CMfT31"
      },
      "source": [
        "### Functions on Keys and Values\n",
        "\n",
        "#### dict.keys()"
      ]
    },
    {
      "cell_type": "code",
      "metadata": {
        "id": "Mk7F4EmTfT32"
      },
      "source": [
        "d = {'Name': \"Alice\", 'Age': 21, 'Gender': 'Female'} \n",
        "\n",
        "## To get the keys from the dictionary\n",
        "\n",
        "keys = list(d.keys())\n",
        "print(keys)"
      ],
      "execution_count": null,
      "outputs": []
    },
    {
      "cell_type": "code",
      "metadata": {
        "id": "kcJbXX94fT33"
      },
      "source": [
        "print(type(keys))"
      ],
      "execution_count": null,
      "outputs": []
    },
    {
      "cell_type": "markdown",
      "metadata": {
        "id": "9gBTAOeLfT4S"
      },
      "source": [
        "#### dict.values()"
      ]
    },
    {
      "cell_type": "code",
      "metadata": {
        "id": "WKIkifI_fT4U"
      },
      "source": [
        "## To get the values from the dictionary\n",
        "\n",
        "values = d.values()\n",
        "print(values)"
      ],
      "execution_count": null,
      "outputs": []
    },
    {
      "cell_type": "code",
      "metadata": {
        "id": "6bT-B-TrfT4W"
      },
      "source": [
        "print(type(values))"
      ],
      "execution_count": null,
      "outputs": []
    },
    {
      "cell_type": "markdown",
      "metadata": {
        "id": "5OP6quACfT4X"
      },
      "source": [
        "#### dict.items()"
      ]
    },
    {
      "cell_type": "code",
      "metadata": {
        "id": "Dl0RXj4lfT4Y"
      },
      "source": [
        "## To get all the key:value pairs from the dictionary as tuples in a list\n",
        "\n",
        "kv = list(d.items())\n",
        "print(kv)"
      ],
      "execution_count": null,
      "outputs": []
    },
    {
      "cell_type": "code",
      "metadata": {
        "id": "HELMBm8-fT4Z"
      },
      "source": [
        "print(type(kv))"
      ],
      "execution_count": null,
      "outputs": []
    },
    {
      "cell_type": "code",
      "metadata": {
        "id": "WnYEckMefT4Z"
      },
      "source": [
        "print(type(kv[0]))"
      ],
      "execution_count": null,
      "outputs": []
    },
    {
      "cell_type": "code",
      "metadata": {
        "id": "BKLx36uYfT4a"
      },
      "source": [
        "a = {'useless_key': 1, 'who_cares_about_this_key': 2, 'blah_blah': 3}"
      ],
      "execution_count": null,
      "outputs": []
    },
    {
      "cell_type": "code",
      "metadata": {
        "id": "BJDVVSPqfT4a"
      },
      "source": [
        "for _, values in a.items():\n",
        "    print(values)"
      ],
      "execution_count": null,
      "outputs": []
    },
    {
      "cell_type": "code",
      "metadata": {
        "id": "RtZy3rfnfT4b"
      },
      "source": [
        "a = { True: 1, False: 0 }  # I read/write binary"
      ],
      "execution_count": null,
      "outputs": []
    },
    {
      "cell_type": "code",
      "metadata": {
        "id": "53IN2Yc4fT4_"
      },
      "source": [
        "a[10 > 50]"
      ],
      "execution_count": null,
      "outputs": []
    },
    {
      "cell_type": "markdown",
      "metadata": {
        "id": "cr8t71sJfT5A"
      },
      "source": [
        "### Exercise\n",
        "\n",
        "Write a code to get an output as:\n",
        "\n",
        "abAB <br>\n",
        "cdCD <br>\n",
        "efEF <br>\n",
        "ghGH <br>\n",
        "\n",
        "from the dict `d = {'ab': 'AB', 'cd': 'CD', 'ef': 'EF', 'gh': 'GH'}`\n"
      ]
    },
    {
      "cell_type": "code",
      "metadata": {
        "id": "UfRfziU8fT5B"
      },
      "source": [
        "d = {'ab': 'AB', 'cd': 'CD', 'ef': 'EF', 'gh': 'GH'}\n",
        "# Write code here #"
      ],
      "execution_count": null,
      "outputs": []
    },
    {
      "cell_type": "markdown",
      "metadata": {
        "id": "iueycE-VfT5C"
      },
      "source": [
        "### Exercise\n",
        "\n",
        "Write a code to combine two dictionaries. We have the prices of products A,B,C,D,E in two different dicts. Add the elements of first dict to the second."
      ]
    },
    {
      "cell_type": "code",
      "metadata": {
        "id": "RqfEq6uvfT5C"
      },
      "source": [
        "d1 = {'A': 50, 'B': 100, 'C': 40}\n",
        "d2 = {'D': 30, 'E': 75}\n",
        "# Write code here #\n",
        "print(d2)               # This should print all the elements of both the dicts."
      ],
      "execution_count": null,
      "outputs": []
    },
    {
      "cell_type": "markdown",
      "metadata": {
        "id": "1zGMt-9VfT5D"
      },
      "source": [
        "\n",
        "#### dict.update()\n",
        "Update a dictionary with more elements"
      ]
    },
    {
      "cell_type": "code",
      "metadata": {
        "id": "Py9oBauGfT5E"
      },
      "source": [
        "d = {'Name': \"Alice\", 'Age': 21, 'Gender': 'Female'} \n",
        "d.update({'Hobby': 'Sleep', 'Address': 'KGP'})\n",
        "print(d)"
      ],
      "execution_count": null,
      "outputs": []
    },
    {
      "cell_type": "markdown",
      "metadata": {
        "id": "rK4rsnvQfT5F"
      },
      "source": [
        "### Exercise\n",
        "\n",
        "We have dict of prices of certain items. Write a code to print the price when an item is provided. If an item is not provided, print its price as 0."
      ]
    },
    {
      "cell_type": "code",
      "metadata": {
        "id": "f67xkIVTfT5G"
      },
      "source": [
        "price = {'A': 30, 'B': 50, 'C': 90}\n",
        "# Write code here to print the price of A#\n",
        "##\n",
        "# Write code here to print the price of E#\n",
        "##"
      ],
      "execution_count": null,
      "outputs": []
    },
    {
      "cell_type": "markdown",
      "metadata": {
        "id": "L4ApQj0nfT5G"
      },
      "source": [
        "__dict.get()__ <br>\n",
        "Fetch an item from a dict"
      ]
    },
    {
      "cell_type": "code",
      "metadata": {
        "id": "NrzWI2wDfT5H"
      },
      "source": [
        "price = {'A': 30, 'B': 50, 'C': 90}\n",
        "print(price.get('A'))"
      ],
      "execution_count": null,
      "outputs": []
    },
    {
      "cell_type": "code",
      "metadata": {
        "id": "D2_4OHNsfT5I"
      },
      "source": [
        "price = {'A': 30, 'B': 50, 'C': 90}\n",
        "print(price.get('E'))"
      ],
      "execution_count": null,
      "outputs": []
    },
    {
      "cell_type": "code",
      "metadata": {
        "id": "WrVy1Z_sfT5J"
      },
      "source": [
        "price = {'A': 30, 'B': 50, 'C': 90}\n",
        "print(price.get('E', 0))"
      ],
      "execution_count": null,
      "outputs": []
    },
    {
      "cell_type": "markdown",
      "metadata": {
        "id": "19MHxsm9fT5L"
      },
      "source": [
        "#### Functions as keys!"
      ]
    },
    {
      "cell_type": "code",
      "metadata": {
        "id": "EtLAQyBFfT5a"
      },
      "source": [
        "def a():\n",
        "    '''Python is <3'''\n",
        "    return \"Agreed!\""
      ],
      "execution_count": null,
      "outputs": []
    },
    {
      "cell_type": "code",
      "metadata": {
        "id": "Nqm36KjVfT6i"
      },
      "source": [
        "f = {a: 4}"
      ],
      "execution_count": null,
      "outputs": []
    },
    {
      "cell_type": "code",
      "metadata": {
        "id": "aPONNpYlfT6k"
      },
      "source": [
        "f[a]"
      ],
      "execution_count": null,
      "outputs": []
    },
    {
      "cell_type": "code",
      "metadata": {
        "id": "UduVLVhtfT6k"
      },
      "source": [
        "### This is not too useful in real life. Shown here as concept"
      ],
      "execution_count": null,
      "outputs": []
    },
    {
      "cell_type": "markdown",
      "metadata": {
        "id": "7EDb0rlwfT6m"
      },
      "source": [
        "####  Counting unique number of words"
      ]
    },
    {
      "cell_type": "code",
      "metadata": {
        "id": "36ADjDCdfT6o"
      },
      "source": [
        "lyrics = \"\"\"Twinkle, twinkle, little star\n",
        "How I wonder what you are\n",
        "Up above the world so high\n",
        "Like a diamond in the sky\"\"\""
      ],
      "execution_count": null,
      "outputs": []
    },
    {
      "cell_type": "code",
      "metadata": {
        "id": "gpAHdjzSfT6q"
      },
      "source": [
        "words = []\n",
        "\n",
        "for i in lyrics.split( ):\n",
        "    if i[::-1][0] == ',':\n",
        "        words.append(i[:-1])\n",
        "    else:\n",
        "        words.append(i)"
      ],
      "execution_count": null,
      "outputs": []
    },
    {
      "cell_type": "code",
      "metadata": {
        "id": "Cx5V9lapfT6r"
      },
      "source": [
        "words"
      ],
      "execution_count": null,
      "outputs": []
    },
    {
      "cell_type": "code",
      "metadata": {
        "id": "4YYiWMHvfT6r"
      },
      "source": [
        "unique = {}\n",
        "\n",
        "for key in words:\n",
        "    if key in unique:\n",
        "        unique[key] += 1\n",
        "    else:\n",
        "        unique[key] = 1\n",
        "    "
      ],
      "execution_count": null,
      "outputs": []
    },
    {
      "cell_type": "code",
      "metadata": {
        "id": "dRdTxhs3fT6s"
      },
      "source": [
        "unique    "
      ],
      "execution_count": null,
      "outputs": []
    },
    {
      "cell_type": "markdown",
      "metadata": {
        "id": "MBvVzmMmfT6t"
      },
      "source": [
        "### Exercise\n",
        "\n",
        "Print a dict with keys from 0 to 9 and their values as their squares."
      ]
    },
    {
      "cell_type": "code",
      "metadata": {
        "id": "gpGnC936fT6u"
      },
      "source": [
        "d = {}\n",
        "# Write code here #\n",
        "print(d)"
      ],
      "execution_count": null,
      "outputs": []
    },
    {
      "cell_type": "markdown",
      "metadata": {
        "id": "Nglgf0n0fT6u"
      },
      "source": [
        "### Use dict comprehension to achieve the above."
      ]
    },
    {
      "cell_type": "code",
      "metadata": {
        "id": "-Q9yg5sufT6v"
      },
      "source": [
        "d = {}\n",
        "# Write code here #\n",
        "print(d)"
      ],
      "execution_count": null,
      "outputs": []
    },
    {
      "cell_type": "code",
      "metadata": {
        "id": "t772v5yXfT6w"
      },
      "source": [
        ""
      ],
      "execution_count": null,
      "outputs": []
    }
  ]
}
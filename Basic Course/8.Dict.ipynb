{
  "cells": [
    {
      "cell_type": "markdown",
      "metadata": {
        "id": "WEkFmxYZfT2o"
      },
      "source": [
        "## Dictionary\n",
        "Dictionaries consist of pairs (called items) of keys and their corresponding values. Python dictionaries are also known as associative arrays or hash tables.\n",
        "\n",
        "In comparison to a list, a list can be called a dict, with keys 0,1,2,3..\n",
        "\n",
        "Key value pairs."
      ]
    },
    {
      "cell_type": "code",
      "execution_count": 15,
      "metadata": {
        "colab": {
          "base_uri": "https://localhost:8080/"
        },
        "id": "Rnq7JHzLfT26",
        "outputId": "b8561200-5293-40b6-a5ac-af0ab9e49f0c"
      },
      "outputs": [
        {
          "name": "stdout",
          "output_type": "stream",
          "text": [
            "{}\n"
          ]
        }
      ],
      "source": [
        "d = {}    # Defining an empty dict in python\n",
        "print(d)"
      ]
    },
    {
      "cell_type": "code",
      "execution_count": 16,
      "metadata": {
        "colab": {
          "base_uri": "https://localhost:8080/"
        },
        "id": "DjXIZ5EjfT29",
        "outputId": "2004d43d-1ebb-4512-81be-c816f8b83b69"
      },
      "outputs": [
        {
          "name": "stdout",
          "output_type": "stream",
          "text": [
            "<class 'dict'>\n"
          ]
        }
      ],
      "source": [
        "print(type(d))"
      ]
    },
    {
      "cell_type": "markdown",
      "metadata": {
        "id": "_Rz8KFYNfT2-"
      },
      "source": [
        "The type function shows the type of the object.\n",
        "\n",
        "### Constructing a dict"
      ]
    },
    {
      "cell_type": "code",
      "execution_count": 17,
      "metadata": {
        "colab": {
          "base_uri": "https://localhost:8080/"
        },
        "id": "d7mjhdaQfT2_",
        "outputId": "6dfe0ddf-1918-469c-ea10-4fb9f5097227"
      },
      "outputs": [
        {
          "name": "stdout",
          "output_type": "stream",
          "text": [
            "{'Name': 'Alice', 'Age': 21}\n"
          ]
        }
      ],
      "source": [
        "d = {\n",
        "    'Name': \"Alice\",\n",
        "     'Age': 21\n",
        "  } \n",
        "print(d)"
      ]
    },
    {
      "cell_type": "markdown",
      "metadata": {
        "id": "RemDeeaN_Vg-"
      },
      "source": [
        "### Reading a dict"
      ]
    },
    {
      "cell_type": "code",
      "execution_count": 18,
      "metadata": {
        "colab": {
          "base_uri": "https://localhost:8080/"
        },
        "id": "VGyKpWQDfT3B",
        "outputId": "61cedc72-c02a-4a02-f4e5-4e59b342f514"
      },
      "outputs": [
        {
          "name": "stdout",
          "output_type": "stream",
          "text": [
            "Alice\n"
          ]
        }
      ],
      "source": [
        "print(d['Name'])         # Accessing a value of a dict"
      ]
    },
    {
      "cell_type": "markdown",
      "metadata": {
        "id": "4cjm9cYmfT3C"
      },
      "source": [
        "### Modifying a dict"
      ]
    },
    {
      "cell_type": "code",
      "execution_count": 19,
      "metadata": {
        "colab": {
          "base_uri": "https://localhost:8080/"
        },
        "id": "NrvQJ2BufT3C",
        "outputId": "d18ff496-f93c-4728-fed3-b6c248f09ff5"
      },
      "outputs": [
        {
          "name": "stdout",
          "output_type": "stream",
          "text": [
            "{'Name': 'Alice', 'Age': 69}\n"
          ]
        }
      ],
      "source": [
        "d['Age'] = 69\n",
        "print(d)"
      ]
    },
    {
      "cell_type": "markdown",
      "metadata": {
        "id": "hebW33nzfT3c"
      },
      "source": [
        "### Adding elements in a dict"
      ]
    },
    {
      "cell_type": "code",
      "execution_count": 20,
      "metadata": {
        "colab": {
          "base_uri": "https://localhost:8080/"
        },
        "id": "LOxBsYZpfT3f",
        "outputId": "ca6ee934-1438-4c94-8fe5-1bd7caf2e776"
      },
      "outputs": [
        {
          "name": "stdout",
          "output_type": "stream",
          "text": [
            "{'Name': 'Alice', 'Age': 69, 'Gender': 'Female'}\n"
          ]
        }
      ],
      "source": [
        "d['Gender'] = 'Female'\n",
        "print(d)"
      ]
    },
    {
      "cell_type": "markdown",
      "metadata": {
        "id": "3ZL9VZkafT3g"
      },
      "source": [
        "### Removing elements from a dict"
      ]
    },
    {
      "cell_type": "code",
      "execution_count": 21,
      "metadata": {
        "colab": {
          "base_uri": "https://localhost:8080/"
        },
        "id": "DNPLsd2DfT3h",
        "outputId": "8ecab281-c6bf-47ee-a000-88e787fd24c6"
      },
      "outputs": [
        {
          "name": "stdout",
          "output_type": "stream",
          "text": [
            "{'Name': 'Alice', 'Age': 69, 'Gender': 'Female'}\n"
          ]
        }
      ],
      "source": [
        "print(d)"
      ]
    },
    {
      "cell_type": "code",
      "execution_count": 22,
      "metadata": {
        "colab": {
          "base_uri": "https://localhost:8080/"
        },
        "id": "DwzQKtrmfT3i",
        "outputId": "0a32d989-c031-4677-9b4e-14e990c26f55"
      },
      "outputs": [
        {
          "name": "stdout",
          "output_type": "stream",
          "text": [
            "{'Name': 'Alice', 'Gender': 'Female'}\n"
          ]
        }
      ],
      "source": [
        "del d['Age']\n",
        "print(d)"
      ]
    },
    {
      "cell_type": "markdown",
      "metadata": {
        "id": "08qQvftIfT3j"
      },
      "source": [
        "### Properties of Keys and Values\n",
        "\n",
        "Dictionary values have no restrictions. They can be any arbitrary Python object, either standard objects or user-defined objects. However, same is not true for the keys. \n",
        "\n",
        "Keys must be :\n",
        "\n",
        "+ Unique in the dictionary (i.e. repitition of keys is not allowed)\n",
        "+ Of immutable type  (i.e. Lists, for e.g. can't be used as a dict key)\n",
        "\n",
        "In short, They must be **hashable**\n",
        "\n"
      ]
    },
    {
      "cell_type": "code",
      "execution_count": null,
      "metadata": {
        "id": "IwAgWes0fT3l"
      },
      "outputs": [],
      "source": [
        "d = {1: 'a', 2: 'b', 2: 'c'}         ## Note that keys are not unique\n",
        "print(d)"
      ]
    },
    {
      "cell_type": "code",
      "execution_count": null,
      "metadata": {
        "id": "Kk99OOH1fT3m"
      },
      "outputs": [],
      "source": [
        "d = {1: 'a', 2: 'b', 3: 'b'}         ## Note that values are not unique\n",
        "print(d)"
      ]
    },
    {
      "cell_type": "code",
      "execution_count": 25,
      "metadata": {
        "colab": {
          "base_uri": "https://localhost:8080/"
        },
        "id": "x1h71KhvfT3n",
        "outputId": "ab718c09-70c1-45af-ef7a-8296e02edc56"
      },
      "outputs": [
        {
          "name": "stdout",
          "output_type": "stream",
          "text": [
            "{1: 'a', 'name': 'abc', 1.5: 2.5, 4: [1, 2, 3], 5: {'1': 1, '2': 2}}\n"
          ]
        }
      ],
      "source": [
        "d = {1: 'a', 'name': 'abc', 1.5: 2.5, 4: [1,2,3], 5: {'1':1, '2':2}}   \n",
        "print(d)"
      ]
    },
    {
      "cell_type": "code",
      "execution_count": null,
      "metadata": {
        "id": "6oi-IZBafT3z",
        "scrolled": true
      },
      "outputs": [],
      "source": [
        "d = {1: 'a', 'name': 'abc', [4]: [1,2,3], 5: {'1':1, '2':2}}   \n",
        "print(d)"
      ]
    },
    {
      "cell_type": "markdown",
      "metadata": {
        "id": "83WZS5CMfT31"
      },
      "source": [
        "### Functions on Keys and Values\n",
        "\n",
        "#### dict.keys()"
      ]
    },
    {
      "cell_type": "code",
      "execution_count": 27,
      "metadata": {
        "colab": {
          "base_uri": "https://localhost:8080/"
        },
        "id": "Mk7F4EmTfT32",
        "outputId": "f2c38271-dea1-4149-ad42-164154a0eafb"
      },
      "outputs": [
        {
          "name": "stdout",
          "output_type": "stream",
          "text": [
            "['Name', 'Age', 'Gender']\n"
          ]
        }
      ],
      "source": [
        "d = {'Name': \"Alice\", 'Age': 21, 'Gender': 'Female'} \n",
        "\n",
        "## To get the keys from the dictionary\n",
        "\n",
        "keys = list(d.keys())\n",
        "print(keys)"
      ]
    },
    {
      "cell_type": "code",
      "execution_count": 28,
      "metadata": {
        "colab": {
          "base_uri": "https://localhost:8080/"
        },
        "id": "kcJbXX94fT33",
        "outputId": "6e049777-688b-4839-e9f8-8ebe038c5c25"
      },
      "outputs": [
        {
          "name": "stdout",
          "output_type": "stream",
          "text": [
            "<class 'list'>\n"
          ]
        }
      ],
      "source": [
        "print(type(keys))"
      ]
    },
    {
      "cell_type": "markdown",
      "metadata": {
        "id": "9gBTAOeLfT4S"
      },
      "source": [
        "#### dict.values()"
      ]
    },
    {
      "cell_type": "code",
      "execution_count": 29,
      "metadata": {
        "colab": {
          "base_uri": "https://localhost:8080/"
        },
        "id": "WKIkifI_fT4U",
        "outputId": "d2b47e4e-5a30-4648-f7eb-1cbd5938f752"
      },
      "outputs": [
        {
          "name": "stdout",
          "output_type": "stream",
          "text": [
            "dict_values(['Alice', 21, 'Female'])\n"
          ]
        }
      ],
      "source": [
        "## To get the values from the dictionary\n",
        "\n",
        "values = d.values()\n",
        "print(values)"
      ]
    },
    {
      "cell_type": "code",
      "execution_count": 30,
      "metadata": {
        "colab": {
          "base_uri": "https://localhost:8080/"
        },
        "id": "6bT-B-TrfT4W",
        "outputId": "13a5e418-f02d-4312-824c-763bdcc8269d"
      },
      "outputs": [
        {
          "name": "stdout",
          "output_type": "stream",
          "text": [
            "<class 'dict_values'>\n"
          ]
        }
      ],
      "source": [
        "print(type(values))"
      ]
    },
    {
      "cell_type": "markdown",
      "metadata": {
        "id": "5OP6quACfT4X"
      },
      "source": [
        "#### dict.items()"
      ]
    },
    {
      "cell_type": "code",
      "execution_count": 31,
      "metadata": {
        "colab": {
          "base_uri": "https://localhost:8080/"
        },
        "id": "Dl0RXj4lfT4Y",
        "outputId": "74914cac-3274-47fb-9f90-337ff73a7780"
      },
      "outputs": [
        {
          "name": "stdout",
          "output_type": "stream",
          "text": [
            "[('Name', 'Alice'), ('Age', 21), ('Gender', 'Female')]\n"
          ]
        }
      ],
      "source": [
        "## To get all the key:value pairs from the dictionary as tuples in a list\n",
        "\n",
        "kv = list(d.items())\n",
        "print(kv)"
      ]
    },
    {
      "cell_type": "code",
      "execution_count": 32,
      "metadata": {
        "colab": {
          "base_uri": "https://localhost:8080/"
        },
        "id": "HELMBm8-fT4Z",
        "outputId": "4a688356-a165-4599-c0e8-e5a33108b295"
      },
      "outputs": [
        {
          "name": "stdout",
          "output_type": "stream",
          "text": [
            "<class 'list'>\n"
          ]
        }
      ],
      "source": [
        "print(type(kv))"
      ]
    },
    {
      "cell_type": "code",
      "execution_count": 33,
      "metadata": {
        "colab": {
          "base_uri": "https://localhost:8080/"
        },
        "id": "WnYEckMefT4Z",
        "outputId": "4714b5de-fdf4-4084-dbd1-72eab2c99446"
      },
      "outputs": [
        {
          "name": "stdout",
          "output_type": "stream",
          "text": [
            "<class 'tuple'>\n"
          ]
        }
      ],
      "source": [
        "print(type(kv[0]))"
      ]
    },
    {
      "cell_type": "code",
      "execution_count": 34,
      "metadata": {
        "id": "BKLx36uYfT4a"
      },
      "outputs": [],
      "source": [
        "a = {'useless_key': 1, 'who_cares_about_this_key': 2, 'blah_blah': 3, \"this_key_will_never_go_to_iit\": 4}"
      ]
    },
    {
      "cell_type": "code",
      "execution_count": 39,
      "metadata": {
        "colab": {
          "base_uri": "https://localhost:8080/"
        },
        "id": "BJDVVSPqfT4a",
        "outputId": "2a965922-affb-4aa9-b4c3-46a8d1acd59d"
      },
      "outputs": [
        {
          "name": "stdout",
          "output_type": "stream",
          "text": [
            "1\n",
            "2\n",
            "3\n",
            "4\n"
          ]
        }
      ],
      "source": [
        "for _, values in a.items():\n",
        "    print(values)"
      ]
    },
    {
      "cell_type": "code",
      "execution_count": 40,
      "metadata": {
        "id": "RtZy3rfnfT4b"
      },
      "outputs": [],
      "source": [
        "a = { True: 1, False: 0 }  # I read/write binary"
      ]
    },
    {
      "cell_type": "code",
      "execution_count": 41,
      "metadata": {
        "colab": {
          "base_uri": "https://localhost:8080/"
        },
        "id": "53IN2Yc4fT4_",
        "outputId": "4bd84a70-619f-4448-afd0-1e3c69282355"
      },
      "outputs": [
        {
          "data": {
            "text/plain": [
              "0"
            ]
          },
          "execution_count": 41,
          "metadata": {},
          "output_type": "execute_result"
        }
      ],
      "source": [
        "a[10 > 50]"
      ]
    },
    {
      "cell_type": "markdown",
      "metadata": {
        "id": "pTDTnENTJ3cj"
      },
      "source": [
        "#### dict comprehension\n"
      ]
    },
    {
      "cell_type": "code",
      "execution_count": 42,
      "metadata": {
        "colab": {
          "base_uri": "https://localhost:8080/"
        },
        "id": "zvLGIEveJ8_0",
        "outputId": "976d4d5d-5b22-4949-d485-4a0991bc1091"
      },
      "outputs": [
        {
          "name": "stdout",
          "output_type": "stream",
          "text": [
            "{1: 'a', 2: 'b', 3: 'c', 4: 'd'}\n"
          ]
        }
      ],
      "source": [
        "keys = [1, 2, 3, 4]\n",
        "values = [\"a\", \"b\", \"c\", \"d\"]\n",
        "d = {keys[i]:values[i] for i in range(4)}\n",
        "print(d)"
      ]
    },
    {
      "cell_type": "markdown",
      "metadata": {
        "id": "cr8t71sJfT5A"
      },
      "source": [
        "### Exercise\n",
        "\n",
        "Write a code to get an output as:\n",
        "\n",
        "abAB <br>\n",
        "cdCD <br>\n",
        "efEF <br>\n",
        "ghGH <br>\n",
        "\n",
        "from the dict `d = {'ab': 'AB', 'cd': 'CD', 'ef': 'EF', 'gh': 'GH'}`\n"
      ]
    },
    {
      "cell_type": "code",
      "execution_count": null,
      "metadata": {
        "id": "UfRfziU8fT5B"
      },
      "outputs": [],
      "source": [
        "d = {'ab': 'AB', 'cd': 'CD', 'ef': 'EF', 'gh': 'GH'}\n",
        "# Write code here #"
      ]
    },
    {
      "cell_type": "markdown",
      "metadata": {
        "id": "iueycE-VfT5C"
      },
      "source": [
        "### Exercise\n",
        "\n",
        "Write a code to combine two dictionaries. We have the prices of products A,B,C,D,E in two different dicts. Add the elements of first dict to the second."
      ]
    },
    {
      "cell_type": "code",
      "execution_count": null,
      "metadata": {
        "id": "RqfEq6uvfT5C"
      },
      "outputs": [],
      "source": [
        "d1 = {'A': 50, 'B': 100, 'C': 40}\n",
        "d2 = {'D': 30, 'E': 75}\n",
        "# Write code here #\n",
        "print(d2)               # This should print all the elements of both the dicts."
      ]
    },
    {
      "cell_type": "markdown",
      "metadata": {
        "id": "1zGMt-9VfT5D"
      },
      "source": [
        "\n",
        "#### dict.update()\n",
        "Update a dictionary with more elements"
      ]
    },
    {
      "cell_type": "code",
      "execution_count": 43,
      "metadata": {
        "colab": {
          "base_uri": "https://localhost:8080/"
        },
        "id": "Py9oBauGfT5E",
        "outputId": "eb1aadb1-60d8-4812-aa8d-f262aa41f2e8"
      },
      "outputs": [
        {
          "name": "stdout",
          "output_type": "stream",
          "text": [
            "{'Name': 'Alice', 'Age': 21, 'Gender': 'Female', 'Hobby': 'Sleep', 'Address': 'KGP'}\n"
          ]
        }
      ],
      "source": [
        "d = {'Name': \"Alice\", 'Age': 21, 'Gender': 'Female'} \n",
        "d.update({'Hobby': 'Sleep', 'Address': 'KGP'})\n",
        "print(d)"
      ]
    },
    {
      "cell_type": "markdown",
      "metadata": {
        "id": "rK4rsnvQfT5F"
      },
      "source": [
        "### Exercise\n",
        "\n",
        "We have dict of prices of certain items. Write a code to print the price when an item is provided. If an item is not provided, print its price as 0."
      ]
    },
    {
      "cell_type": "code",
      "execution_count": 45,
      "metadata": {
        "colab": {
          "base_uri": "https://localhost:8080/"
        },
        "id": "f67xkIVTfT5G",
        "outputId": "e9cd2eaa-9b25-4e79-fa9b-a2f3307dc9b7"
      },
      "outputs": [
        {
          "name": "stdout",
          "output_type": "stream",
          "text": [
            "True\n"
          ]
        }
      ],
      "source": [
        "price = {'A': 30, 'B': 50, 'C': 90}\n",
        "#print('A' in price)\n",
        "# Write code here to print the price of A#\n",
        "##\n",
        "# Write code here to print the price of E#\n",
        "##"
      ]
    },
    {
      "cell_type": "markdown",
      "metadata": {
        "id": "L4ApQj0nfT5G"
      },
      "source": [
        "__dict.get()__ <br>\n",
        "Fetch an item from a dict"
      ]
    },
    {
      "cell_type": "code",
      "execution_count": null,
      "metadata": {
        "id": "NrzWI2wDfT5H"
      },
      "outputs": [],
      "source": [
        "price = {'A': 30, 'B': 50, 'C': 90}\n",
        "print(price.get('A'))"
      ]
    },
    {
      "cell_type": "code",
      "execution_count": null,
      "metadata": {
        "id": "D2_4OHNsfT5I"
      },
      "outputs": [],
      "source": [
        "price = {'A': 30, 'B': 50, 'C': 90}\n",
        "print(price.get('E'))"
      ]
    },
    {
      "cell_type": "code",
      "execution_count": null,
      "metadata": {
        "id": "WrVy1Z_sfT5J"
      },
      "outputs": [],
      "source": [
        "price = {'A': 30, 'B': 50, 'C': 90}\n",
        "print(price.get('E', 0))"
      ]
    },
    {
      "cell_type": "markdown",
      "metadata": {
        "id": "DTcJPt_y_VhP"
      },
      "source": [
        "### Accessing keys not present in dictionary"
      ]
    },
    {
      "cell_type": "code",
      "execution_count": null,
      "metadata": {
        "id": "uhVP3zdE_VhP"
      },
      "outputs": [],
      "source": [
        "price['n']"
      ]
    },
    {
      "cell_type": "code",
      "execution_count": 50,
      "metadata": {
        "colab": {
          "base_uri": "https://localhost:8080/"
        },
        "id": "bvuH65x9_VhP",
        "outputId": "116cf87d-340f-4499-d2ea-6ae10325f5b7"
      },
      "outputs": [
        {
          "name": "stdout",
          "output_type": "stream",
          "text": [
            "None\n"
          ]
        }
      ],
      "source": [
        "print(price.get('n'))"
      ]
    },
    {
      "cell_type": "markdown",
      "metadata": {
        "id": "7EDb0rlwfT6m"
      },
      "source": [
        "####  Counting unique number of words"
      ]
    },
    {
      "cell_type": "code",
      "execution_count": 54,
      "metadata": {
        "id": "R8IjO_Ff_VhQ"
      },
      "outputs": [],
      "source": [
        "#words = [\"aditya\", \"is\", \"a\", \"great\", \"great\", \"great\", \"guy\"]\n",
        "\n",
        "words = ['influence', 'a', 'use', 'so', 'so', 'of', 'to', 'Sith,', 'create', 'wise', 'Dark', 'midichlorians', 'the', 'life', 'Darth', 'and', 'the', 'Plagueis', 'powerful', 'the', 'Force', 'to', 'he', 'could', 'Lord', 'was']"
      ]
    },
    {
      "cell_type": "code",
      "execution_count": 55,
      "metadata": {
        "id": "YuUeTx3i_VhQ"
      },
      "outputs": [],
      "source": [
        "unique = {}\n",
        "\n",
        "for key in words:\n",
        "    if key in unique:\n",
        "        unique[key] += 1\n",
        "    else:\n",
        "        unique[key] = 1"
      ]
    },
    {
      "cell_type": "code",
      "execution_count": null,
      "metadata": {
        "id": "qEk2Qq3k_VhQ"
      },
      "outputs": [],
      "source": [
        "unique"
      ]
    },
    {
      "cell_type": "code",
      "execution_count": 57,
      "metadata": {
        "id": "36ADjDCdfT6o"
      },
      "outputs": [],
      "source": [
        "lyrics = \"\"\"Twinkle, twinkle, little star\n",
        "How I wonder what you are\n",
        "Up above the world so high\n",
        "Like a diamond in the sky\"\"\""
      ]
    },
    {
      "cell_type": "code",
      "execution_count": 61,
      "metadata": {
        "id": "gpAHdjzSfT6q"
      },
      "outputs": [],
      "source": [
        "words = []\n",
        "\n",
        "for i in lyrics.split( ):\n",
        "    if i[::-1][0] == ',': # what does [::-1] do?\n",
        "        words.append(i[:-1])\n",
        "    else:\n",
        "        words.append(i)"
      ]
    },
    {
      "cell_type": "code",
      "execution_count": null,
      "metadata": {
        "id": "Cx5V9lapfT6r"
      },
      "outputs": [],
      "source": [
        "words"
      ]
    },
    {
      "cell_type": "code",
      "execution_count": 63,
      "metadata": {
        "id": "4YYiWMHvfT6r"
      },
      "outputs": [],
      "source": [
        "unique = {}\n",
        "\n",
        "for key in words:\n",
        "    if key in unique:\n",
        "        unique[key] += 1\n",
        "    else:\n",
        "        unique[key] = 1\n",
        "    "
      ]
    },
    {
      "cell_type": "code",
      "execution_count": null,
      "metadata": {
        "id": "dRdTxhs3fT6s"
      },
      "outputs": [],
      "source": [
        "unique    "
      ]
    },
    {
      "cell_type": "markdown",
      "metadata": {
        "id": "MBvVzmMmfT6t"
      },
      "source": [
        "### Exercise\n",
        "\n",
        "Print a dict with keys from 0 to 9 and their values as their squares."
      ]
    },
    {
      "cell_type": "code",
      "execution_count": null,
      "metadata": {
        "id": "gpGnC936fT6u"
      },
      "outputs": [],
      "source": [
        "d = {}\n",
        "# Write code here #\n",
        "print(d)"
      ]
    },
    {
      "cell_type": "markdown",
      "metadata": {
        "id": "Nglgf0n0fT6u"
      },
      "source": [
        "### Use dict comprehension to achieve the above."
      ]
    },
    {
      "cell_type": "code",
      "execution_count": null,
      "metadata": {
        "id": "-Q9yg5sufT6v"
      },
      "outputs": [],
      "source": [
        "d = {}\n",
        "# Write code here :)\n",
        "print(d)"
      ]
    }
  ],
  "metadata": {
    "colab": {
      "collapsed_sections": [],
      "name": "8.Dict.ipynb",
      "provenance": []
    },
    "kernelspec": {
      "display_name": "Python 3",
      "language": "python",
      "name": "python3"
    },
    "language_info": {
      "codemirror_mode": {
        "name": "ipython",
        "version": 3
      },
      "file_extension": ".py",
      "mimetype": "text/x-python",
      "name": "python",
      "nbconvert_exporter": "python",
      "pygments_lexer": "ipython3",
      "version": "3.10.2"
    }
  },
  "nbformat": 4,
  "nbformat_minor": 0
}

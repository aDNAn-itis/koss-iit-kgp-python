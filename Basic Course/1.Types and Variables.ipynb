{
  "cells": [
    {
      "cell_type": "markdown",
      "metadata": {
        "id": "f1jaZJJYTSzf"
      },
      "source": [
        "# Introduction to Python Programming Language\n",
        "---"
      ]
    },
    {
      "cell_type": "markdown",
      "metadata": {
        "id": "m5Ep36soTSzp"
      },
      "source": [
        "Presented By :\n",
        "* Ananya das | [ananyaa0](https://github.com/ananyaa0)\n",
        "* Anushka Srivastava | [anushka-2002](https://github.com/anushka-2002)\n",
        "* Aditya Mishra | [cliff-4](https://github.com/cliff-4)\n"
      ]
    },
    {
      "cell_type": "markdown",
      "metadata": {
        "id": "VNth2NdYTSzr"
      },
      "source": [
        ""
      ]
    },
    {
      "cell_type": "markdown",
      "metadata": {
        "id": "7xXlPEckTSzu"
      },
      "source": [
        "## Organised By :\n",
        "### [Kharagpur Open Source Society](https://kossiitkgp.github.io)"
      ]
    },
    {
      "cell_type": "markdown",
      "metadata": {
        "id": "pg_Sp5EsTSzy"
      },
      "source": [
        "# What are we going to learn today ?\n",
        "\n",
        "\n",
        "- How to program in Python language?\n",
        "- What is the Python language and why is there a buzz about it?\n",
        "\n",
        "\n",
        "Topics covered in this session:\n",
        "    - Types\n",
        "    - Variables\n",
        "    - Strings\n",
        "    - Boolean\n",
        "    - Conditionals\n",
        "    - List and Tuples\n",
        "    - Loops\n",
        "    - Functions\n",
        "    - Dicts\n",
        "    \n",
        "By the end of the session, We would like everyone to be comfortable with these concepts."
      ]
    },
    {
      "cell_type": "markdown",
      "metadata": {
        "id": "DG8jH1lBTSz0"
      },
      "source": [
        "# How to Write and Run Python Code\n",
        "\n",
        "There are two ways to run Python code:\n",
        "    1. interactive mode\n",
        "    2. script mode\n"
      ]
    },
    {
      "cell_type": "markdown",
      "metadata": {
        "id": "SO__tFbmTSz3"
      },
      "source": [
        "## Interactive Mode\n",
        "\n",
        "In interactive mode, you type Python code and the interpreter displays the result.\n",
        "This is the Python REPL (Read-Eval-Print Loop)."
      ]
    },
    {
      "cell_type": "code",
      "execution_count": null,
      "metadata": {
        "id": "5Di2N-U4TSz6"
      },
      "outputs": [],
      "source": [
        "print('Hello, World! This is my first line of Python')"
      ]
    },
    {
      "cell_type": "markdown",
      "metadata": {
        "id": "GS-94A8STS0D"
      },
      "source": [
        "## Script Mode\n",
        "\n",
        "In script mode, you store the code in a file that ends with \".py\".\n",
        "\n",
        "Copy the above line of code in a file called **hello_world.py**.\n",
        "To execute the code in the file, you would type **$ python first_program.py** in a command window.\n",
        "\n",
        "You should save your code as a script if you are writing anything more than a few lines."
      ]
    },
    {
      "cell_type": "markdown",
      "metadata": {
        "id": "UU7lIo03TS0G"
      },
      "source": [
        "## Types"
      ]
    },
    {
      "cell_type": "markdown",
      "metadata": {
        "id": "AuesvClhTS0J"
      },
      "source": [
        "Variables\n",
        "---------\n",
        "\n",
        "In computer programming, a variable is a storage location and an associated symbolic name (an _identifier_) which contains some known or unknown quantity or information, a value.\n",
        "\n",
        "#### C\n",
        "```c\n",
        "int x = 29;\n",
        "float y = 321.321;\n",
        "double z = 32132132132133.21;\n",
        "```\n",
        "\n",
        "#### Python\n",
        "```python\n",
        "x = 343  # Integer\n",
        "y = 43.24  # Float\n",
        "```\n",
        "Variable names in Python can contain alphanumerical characters a-z, A-Z, 0-9 and some special characters such as `_`. Normal variable names should start with a letter. `_` can be used for special cases.\n",
        "By convension, variable names start with a lower-case letter, and Class names start with an upper-case letter.\n",
        "In addition, there are a number of Python keywords that cannot be used as variable names. These keywords are:\n",
        "\n",
        "```\n",
        "and, as, assert, break, class, continue, def, del, elif, else, except, \n",
        "exec, finally, for, from, global, if, import, in, is, lambda, not, or,\n",
        "pass, print, raise, return, try, while, with, yield\n",
        "```\n"
      ]
    },
    {
      "cell_type": "markdown",
      "metadata": {
        "id": "b4nTdwGjTS0L"
      },
      "source": [
        "Note: Be aware of the keyword `lambda`, which could easily be a natural variable name in a scientific program. But being a keyword, it cannot be used as a variable name."
      ]
    },
    {
      "cell_type": "markdown",
      "metadata": {
        "id": "Y816_R5zTS0N"
      },
      "source": [
        "Assignment\n",
        "----------\n",
        "\n",
        "The assignment operator in Python is `=`. Python is a **dynamically typed** language, so we do not need to specify the type of a variable when we create one."
      ]
    },
    {
      "cell_type": "raw",
      "metadata": {
        "id": "bu5Zip0GTS0P"
      },
      "source": [
        "Assigning a value to a new variable creates the variable:"
      ]
    },
    {
      "cell_type": "code",
      "execution_count": null,
      "metadata": {
        "id": "kYrtKpjOTS0Q"
      },
      "outputs": [],
      "source": [
        "''' \n",
        "variable assignments\n",
        "this is a variable assignment\n",
        "'''\n",
        "x = 1.0\n",
        "my_variable = 12\n",
        "name=\"Ram\""
      ]
    },
    {
      "cell_type": "code",
      "execution_count": null,
      "metadata": {
        "id": "f_82wdAsTS0U",
        "colab": {
          "base_uri": "https://localhost:8080/"
        },
        "outputId": "55150dda-eab1-4adc-a15a-45cf23e5bc87"
      },
      "outputs": [
        {
          "output_type": "stream",
          "name": "stdout",
          "text": [
            "<class 'float'>\n",
            "<class 'int'>\n",
            "<class 'str'>\n"
          ]
        }
      ],
      "source": [
        "print(type(x))\n",
        "print(type(my_variable))\n",
        "print(type(name))"
      ]
    },
    {
      "cell_type": "raw",
      "metadata": {
        "id": "oXvXG3XpTS0g"
      },
      "source": [
        "If we assign a new value to a variable, its type can change."
      ]
    },
    {
      "cell_type": "code",
      "execution_count": null,
      "metadata": {
        "id": "AIVKO8_tTS0h",
        "colab": {
          "base_uri": "https://localhost:8080/"
        },
        "outputId": "6391f22e-4ceb-4aa9-dd86-32af098b3718"
      },
      "outputs": [
        {
          "output_type": "execute_result",
          "data": {
            "text/plain": [
              "int"
            ]
          },
          "metadata": {},
          "execution_count": 3
        }
      ],
      "source": [
        "x = 1\n",
        "type(x)"
      ]
    },
    {
      "cell_type": "markdown",
      "metadata": {
        "id": "7uf94xXaTS0r"
      },
      "source": [
        "We get a `NameError` when we try to access a variable which has not been defined."
      ]
    },
    {
      "cell_type": "code",
      "execution_count": null,
      "metadata": {
        "id": "Qo5QCAFsTS0t",
        "colab": {
          "base_uri": "https://localhost:8080/",
          "height": 167
        },
        "outputId": "dd88a544-7cb7-4bd2-e623-21047baf80ec"
      },
      "outputs": [
        {
          "output_type": "error",
          "ename": "NameError",
          "evalue": "ignored",
          "traceback": [
            "\u001b[0;31m---------------------------------------------------------------------------\u001b[0m",
            "\u001b[0;31mNameError\u001b[0m                                 Traceback (most recent call last)",
            "\u001b[0;32m<ipython-input-4-c564d8507e5d>\u001b[0m in \u001b[0;36m<module>\u001b[0;34m()\u001b[0m\n\u001b[0;32m----> 1\u001b[0;31m \u001b[0mt\u001b[0m \u001b[0;34m=\u001b[0m \u001b[0mx\u001b[0m \u001b[0;34m+\u001b[0m \u001b[0my\u001b[0m\u001b[0;34m\u001b[0m\u001b[0;34m\u001b[0m\u001b[0m\n\u001b[0m",
            "\u001b[0;31mNameError\u001b[0m: name 'y' is not defined"
          ]
        }
      ],
      "source": [
        "t = x + y"
      ]
    },
    {
      "cell_type": "markdown",
      "metadata": {
        "id": "TcVkN0NnTS08"
      },
      "source": [
        "## Multiple assignments"
      ]
    },
    {
      "cell_type": "code",
      "execution_count": null,
      "metadata": {
        "id": "h-1zWDcGTS0-"
      },
      "outputs": [],
      "source": [
        "a, b, c = 5, 3.2, \"Hello\""
      ]
    },
    {
      "cell_type": "code",
      "execution_count": null,
      "metadata": {
        "id": "7p-ORyq7TS1D",
        "colab": {
          "base_uri": "https://localhost:8080/"
        },
        "outputId": "bd31acb7-999f-4654-c8bc-6a65611f2db9"
      },
      "outputs": [
        {
          "output_type": "stream",
          "name": "stdout",
          "text": [
            "5 3.2 Hello\n"
          ]
        }
      ],
      "source": [
        "print(a,b,c)"
      ]
    },
    {
      "cell_type": "markdown",
      "metadata": {
        "id": "YBjA4RttTS1M"
      },
      "source": [
        "### Assign the same value to multiple variables at once"
      ]
    },
    {
      "cell_type": "code",
      "execution_count": null,
      "metadata": {
        "id": "ZQ3LDqmJTS1O"
      },
      "outputs": [],
      "source": [
        "x = y = z = \"same\""
      ]
    },
    {
      "cell_type": "markdown",
      "metadata": {
        "id": "dMttZW8UTS1T"
      },
      "source": [
        "Fundamental data types\n",
        "----------------------"
      ]
    },
    {
      "cell_type": "code",
      "execution_count": null,
      "metadata": {
        "id": "yhrch8ZNTS1V"
      },
      "outputs": [],
      "source": [
        "# integers\n",
        "x = 1\n",
        "type(x)"
      ]
    },
    {
      "cell_type": "code",
      "execution_count": null,
      "metadata": {
        "id": "lI4DwsEYTS1d"
      },
      "outputs": [],
      "source": [
        "# float\n",
        "x = 1.0\n",
        "type(x)"
      ]
    },
    {
      "cell_type": "code",
      "execution_count": null,
      "metadata": {
        "id": "CQBBhnGITS1k"
      },
      "outputs": [],
      "source": [
        "# boolean\n",
        "b1 = True\n",
        "b2 = False\n",
        "\n",
        "type(b1)\n"
      ]
    },
    {
      "cell_type": "markdown",
      "metadata": {
        "id": "SAuIiAOlTS1u"
      },
      "source": [
        "### More on Booleans later!"
      ]
    },
    {
      "cell_type": "markdown",
      "metadata": {
        "id": "s9WaCCF6TS1w"
      },
      "source": [
        "## Complex Numbers in Python !!"
      ]
    },
    {
      "cell_type": "code",
      "execution_count": null,
      "metadata": {
        "id": "sWdi_re8TS10"
      },
      "outputs": [],
      "source": [
        "# complex numbers: note the use of `j` to specify the imaginary part\n",
        "x = 1.0 - 1.0j\n",
        "type(x)"
      ]
    },
    {
      "cell_type": "code",
      "execution_count": null,
      "metadata": {
        "id": "_29OPa6rTS2C"
      },
      "outputs": [],
      "source": [
        "print(x)"
      ]
    },
    {
      "cell_type": "code",
      "execution_count": null,
      "metadata": {
        "id": "9dXSNNjbTS2I"
      },
      "outputs": [],
      "source": [
        "# Real part\n",
        "print(x.real)"
      ]
    },
    {
      "cell_type": "code",
      "execution_count": null,
      "metadata": {
        "id": "mEytX4UHTS2V"
      },
      "outputs": [],
      "source": [
        "# Imaginary \n",
        "print(x.imag)"
      ]
    },
    {
      "cell_type": "markdown",
      "metadata": {
        "id": "e8qbm4a9TS2a"
      },
      "source": [
        "## Typecasting\n",
        "\n",
        "When you want to change variables from one type to another.\n",
        "We are using inbuilt _functions_ to do the typecasting.\n",
        "Later we'll show you how to write your own functions."
      ]
    },
    {
      "cell_type": "code",
      "execution_count": null,
      "metadata": {
        "id": "lquoydUBTS2f"
      },
      "outputs": [],
      "source": [
        "a = 1\n",
        "print(a)"
      ]
    },
    {
      "cell_type": "code",
      "execution_count": null,
      "metadata": {
        "id": "EGUowZYdTS2k"
      },
      "outputs": [],
      "source": [
        "float(a)"
      ]
    },
    {
      "cell_type": "code",
      "execution_count": null,
      "metadata": {
        "id": "F9QAH7jGTS2p"
      },
      "outputs": [],
      "source": [
        "z = 2 + 3j\n",
        "z"
      ]
    },
    {
      "cell_type": "code",
      "execution_count": null,
      "metadata": {
        "id": "w41salN6TS2x"
      },
      "outputs": [],
      "source": [
        "float(z.imag)"
      ]
    },
    {
      "cell_type": "code",
      "execution_count": null,
      "metadata": {
        "id": "Qw2SgJJ0TS23"
      },
      "outputs": [],
      "source": [
        "complex(a)"
      ]
    },
    {
      "cell_type": "code",
      "execution_count": null,
      "metadata": {
        "id": "K8c8-iUGTS29"
      },
      "outputs": [],
      "source": [
        "int(45.55)"
      ]
    },
    {
      "cell_type": "markdown",
      "metadata": {
        "id": "nU-mHebBTS3H"
      },
      "source": [
        "## Python List"
      ]
    },
    {
      "cell_type": "raw",
      "metadata": {
        "id": "BV0Rf4IOTS3H"
      },
      "source": [
        "List is an ordered sequence of items."
      ]
    },
    {
      "cell_type": "code",
      "execution_count": null,
      "metadata": {
        "id": "G0CXzE9-TS3I"
      },
      "outputs": [],
      "source": [
        "a = [1, 2.2, 'python']"
      ]
    },
    {
      "cell_type": "markdown",
      "metadata": {
        "id": "p1DBnxczTS3M"
      },
      "source": [
        "## Python Tuple"
      ]
    },
    {
      "cell_type": "raw",
      "metadata": {
        "id": "xSu5Ba9rTS3N"
      },
      "source": [
        "Tuple is an ordered sequence of items same as list.\n",
        "The only difference is that tuples are immutable."
      ]
    },
    {
      "cell_type": "code",
      "execution_count": null,
      "metadata": {
        "id": "yK4xFBiyTS3P"
      },
      "outputs": [],
      "source": [
        "t = (5,'program', 1+3j)"
      ]
    },
    {
      "cell_type": "markdown",
      "metadata": {
        "id": "Wv3i8FeWTS3Q"
      },
      "source": [
        "# Mutability in Python"
      ]
    },
    {
      "cell_type": "markdown",
      "metadata": {
        "id": "LkWk9a8-TS3S"
      },
      "source": [
        "```A class is immutable if each object of that class has a fixed value upon instantiation that cannot SUBSEQUENTLY be changed```"
      ]
    },
    {
      "cell_type": "markdown",
      "metadata": {
        "id": "E8TZwJiJTS3S"
      },
      "source": [
        "***In another words change the entire value of that variable name or leave it alone.***"
      ]
    },
    {
      "cell_type": "markdown",
      "metadata": {
        "id": "WdWuadqWTS3T"
      },
      "source": [
        "Example:"
      ]
    },
    {
      "cell_type": "code",
      "execution_count": null,
      "metadata": {
        "id": "HoyKY1cjTS3T"
      },
      "outputs": [],
      "source": [
        "my_string = \"Hello world\"\n",
        "my_string[0] = \"h\"\n",
        "print(my_string)"
      ]
    },
    {
      "cell_type": "raw",
      "metadata": {
        "id": "4kWrHW-fTS3Y"
      },
      "source": [
        "The interpreter is saying : i can't change the first character of this string"
      ]
    },
    {
      "cell_type": "raw",
      "metadata": {
        "id": "dS2DvqXeTS3a"
      },
      "source": [
        "You will have to change the whole `string` in order to make it works:"
      ]
    },
    {
      "cell_type": "code",
      "execution_count": null,
      "metadata": {
        "id": "30yrA0ZLTS3a"
      },
      "outputs": [],
      "source": [
        "my_string = \"Hello World\"\n",
        "my_string = \"hello world\"\n",
        "print(my_string) #hello world"
      ]
    },
    {
      "cell_type": "raw",
      "metadata": {
        "id": "d9x56OlkTS3f"
      },
      "source": [
        "Here is a complete list of Mutable and Immutable Data Types"
      ]
    },
    {
      "cell_type": "markdown",
      "metadata": {
        "id": "vqea5zn3TS3m"
      },
      "source": [
        "![img](./img/mutable_and_immutable.png \"img\")"
      ]
    },
    {
      "cell_type": "markdown",
      "metadata": {
        "id": "u_-Jk_1vTmyr"
      },
      "source": [
        "## Question\n",
        "While writing a new backend code in python Alex is stuck on how to take an address string and prefix it with an order id and suffix it with the name of person to whom it is delivered. Help Alex with his task.  \n",
        "**Address** -> Kharagpur, West Bengal 721302  \n",
        "**Name** -> Partha Pratim Chakraborty  \n",
        "**Order-id** -> LifeOutSideCollege"
      ]
    },
    {
      "cell_type": "code",
      "execution_count": null,
      "metadata": {
        "id": "V9GozNxMsRtv"
      },
      "outputs": [],
      "source": [
        "# Your code here"
      ]
    },
    {
      "cell_type": "markdown",
      "metadata": {
        "id": "q4jIa56hZbbp"
      },
      "source": [
        "## Question \n",
        "\n",
        "As you helped Nitin add prefix and suffix to the addresss string, now nitin has passed down this code to Apoorva. Now Apoorva being a shitty coder doesn't know some basic function of python. He is given a **list** such as it contains :  \n",
        "**[serial no,order-id,address,name]**.\n",
        "\n",
        "But due to some bug in the system the serial number is in string rather than being an integer. So manipulate the list such as it contains serial number in integer and it comes in last as **[order-id,address,name,serial no]**. Help Apoorva save his ass.\n",
        "\n",
        "\n"
      ]
    },
    {
      "cell_type": "code",
      "execution_count": null,
      "metadata": {
        "id": "7sbix9mjsRtv"
      },
      "outputs": [],
      "source": [
        "oldlist=[\"1\",\"LifeOutSideCollege\",\"Kharagpur, West Bengal 721302\",\"Partha Pratim Chakraborty\"]\n",
        "\n",
        "# newlist = "
      ]
    }
  ],
  "metadata": {
    "colab": {
      "name": "Copy of 1.Types and Variables.ipynb",
      "provenance": [],
      "collapsed_sections": [
        "TcVkN0NnTS08",
        "YBjA4RttTS1M",
        "dMttZW8UTS1T",
        "SAuIiAOlTS1u",
        "s9WaCCF6TS1w",
        "e8qbm4a9TS2a",
        "nU-mHebBTS3H",
        "p1DBnxczTS3M",
        "u_-Jk_1vTmyr",
        "q4jIa56hZbbp"
      ]
    },
    "kernelspec": {
      "display_name": "Python 3",
      "language": "python",
      "name": "python3"
    },
    "language_info": {
      "codemirror_mode": {
        "name": "ipython",
        "version": 3
      },
      "file_extension": ".py",
      "mimetype": "text/x-python",
      "name": "python",
      "nbconvert_exporter": "python",
      "pygments_lexer": "ipython3",
      "version": "3.6.8"
    }
  },
  "nbformat": 4,
  "nbformat_minor": 0
}
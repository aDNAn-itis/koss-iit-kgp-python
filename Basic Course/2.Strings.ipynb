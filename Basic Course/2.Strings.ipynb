{
  "cells": [
    {
      "cell_type": "markdown",
      "metadata": {
        "id": "iN-Hc_6yjTPa"
      },
      "source": [
        "## Strings\n",
        "\n",
        "### Let's get deep!"
      ]
    },
    {
      "cell_type": "raw",
      "metadata": {
        "id": "qVm07o0ijTPh"
      },
      "source": [
        "Strings are the variable type that is used for storing text messages."
      ]
    },
    {
      "cell_type": "code",
      "execution_count": null,
      "metadata": {
        "id": "NuF_DcgTjTPn",
        "colab": {
          "base_uri": "https://localhost:8080/"
        },
        "outputId": "ca492047-b563-4e84-9aaf-b1b573b93229"
      },
      "outputs": [
        {
          "output_type": "execute_result",
          "data": {
            "text/plain": [
              "str"
            ]
          },
          "metadata": {},
          "execution_count": 2
        }
      ],
      "source": [
        "s = \"Hello world\"\n",
        "type(s)"
      ]
    },
    {
      "cell_type": "raw",
      "metadata": {
        "id": "LH_b0QTkjTPy"
      },
      "source": [
        "Notice you don't get 12 which you would have got in C !"
      ]
    },
    {
      "cell_type": "code",
      "execution_count": null,
      "metadata": {
        "id": "Imv97s0jjTP2"
      },
      "outputs": [],
      "source": [
        "# length of the string: the number of characters\n",
        "len(s)"
      ]
    },
    {
      "cell_type": "code",
      "execution_count": null,
      "metadata": {
        "id": "cSlPvsqIjTP-"
      },
      "outputs": [],
      "source": [
        "s  # `s` is still the same! Strings are immutable."
      ]
    },
    {
      "cell_type": "code",
      "execution_count": null,
      "metadata": {
        "id": "6G6xltLNjTQF"
      },
      "outputs": [],
      "source": [
        "s[0]"
      ]
    },
    {
      "cell_type": "code",
      "execution_count": null,
      "metadata": {
        "id": "pHPJbZXcjTQL"
      },
      "outputs": [],
      "source": [
        "s[1]"
      ]
    },
    {
      "cell_type": "code",
      "execution_count": null,
      "metadata": {
        "id": "2DK8qEOYjTQR"
      },
      "outputs": [],
      "source": [
        "s[2], s[3], s[4]"
      ]
    },
    {
      "cell_type": "raw",
      "metadata": {
        "id": "WyUI4pcIjTQd"
      },
      "source": [
        "Accessing Characters by Negative Index Number"
      ]
    },
    {
      "cell_type": "raw",
      "metadata": {
        "id": "-r9e1dzpjTQe"
      },
      "source": [
        "If we have a long string and we want to pinpoint an item towards the end, we can also count backwards from the end of the string, starting at the index number -1."
      ]
    },
    {
      "cell_type": "code",
      "execution_count": null,
      "metadata": {
        "id": "KUSVytyhjTQi"
      },
      "outputs": [],
      "source": [
        "ss = \"Sammy Shark!\""
      ]
    },
    {
      "cell_type": "markdown",
      "metadata": {
        "id": "z2CCbnVvjTQs"
      },
      "source": [
        "![Image](./img/negative_index.png  \"image\")\n"
      ]
    },
    {
      "cell_type": "code",
      "execution_count": null,
      "metadata": {
        "id": "qT3gDxpFjTQu"
      },
      "outputs": [],
      "source": [
        "print(ss[-3])"
      ]
    },
    {
      "cell_type": "markdown",
      "metadata": {
        "id": "4cc6ZLVwjTQ4"
      },
      "source": [
        "### String slicing\n",
        "We can extract a part of a string.\n",
        "\n",
        "Indexing starts with ```0``` and not ```1```!<br>\n",
        "**Not MATLAB XD !**"
      ]
    },
    {
      "cell_type": "code",
      "execution_count": null,
      "metadata": {
        "colab": {
          "base_uri": "https://localhost:8080/"
        },
        "id": "4oftj5J3jTQ5",
        "outputId": "9186b447-e493-499a-8107-8238762bcb6a"
      },
      "outputs": [
        {
          "output_type": "stream",
          "name": "stdout",
          "text": [
            "Hello\n",
            "ell\n"
          ]
        }
      ],
      "source": [
        "print(s[0:5])\n",
        "print(s[1:4])"
      ]
    },
    {
      "cell_type": "code",
      "execution_count": null,
      "metadata": {
        "id": "hf0nxO0rjTQ_"
      },
      "outputs": [],
      "source": [
        "s[:5]  # From start."
      ]
    },
    {
      "cell_type": "code",
      "execution_count": null,
      "metadata": {
        "id": "fibyBgu4jTRH"
      },
      "outputs": [],
      "source": [
        "s[6:]  # Till end."
      ]
    },
    {
      "cell_type": "code",
      "execution_count": null,
      "metadata": {
        "id": "Tb_31jGHjTRP"
      },
      "outputs": [],
      "source": [
        "s[:]  # From start and till end!"
      ]
    },
    {
      "cell_type": "code",
      "execution_count": null,
      "metadata": {
        "colab": {
          "base_uri": "https://localhost:8080/"
        },
        "id": "b9ifnyi9jTRX",
        "outputId": "04f04cd6-06d6-453e-b7e7-f819cfa41d5b"
      },
      "outputs": [
        {
          "output_type": "stream",
          "name": "stdout",
          "text": [
            "ark\n"
          ]
        }
      ],
      "source": [
        "print(ss[-4:11])"
      ]
    },
    {
      "cell_type": "markdown",
      "metadata": {
        "id": "8GwJj11ijTRd"
      },
      "source": [
        "**Specifying Stride while Slicing Strings**"
      ]
    },
    {
      "cell_type": "code",
      "execution_count": null,
      "metadata": {
        "id": "LnHJGMpojTRe"
      },
      "outputs": [],
      "source": [
        "print(ss[6:11])"
      ]
    },
    {
      "cell_type": "raw",
      "metadata": {
        "id": "4x6oacWBjTRi"
      },
      "source": [
        "We can obtain the same results by including a third parameter with a stride of 1:"
      ]
    },
    {
      "cell_type": "code",
      "execution_count": null,
      "metadata": {
        "id": "v4No4PlZjTRm"
      },
      "outputs": [],
      "source": [
        "print(ss[6:11:1])"
      ]
    },
    {
      "cell_type": "raw",
      "metadata": {
        "id": "hvWEWJSvjTRx"
      },
      "source": [
        "So, a stride of 1 will take in every character between two index numbers of a slice. If we omit the stride parameter then Python will default with 1.\n",
        "\n",
        "If, instead, we increase the stride, we will see that characters are skipped:\n",
        "\n"
      ]
    },
    {
      "cell_type": "code",
      "execution_count": null,
      "metadata": {
        "id": "ZYOtR05sjTRy"
      },
      "outputs": [],
      "source": [
        "print(ss[0:12:2])"
      ]
    },
    {
      "cell_type": "markdown",
      "metadata": {
        "id": "ckXASZynjTR3"
      },
      "source": [
        "#### String concatenation and formatting"
      ]
    },
    {
      "cell_type": "code",
      "execution_count": null,
      "metadata": {
        "id": "HyEmscjejTR7"
      },
      "outputs": [],
      "source": [
        "a = \"foo\"\n",
        "b = \"bar\"\n",
        "a + b"
      ]
    },
    {
      "cell_type": "code",
      "execution_count": null,
      "metadata": {
        "id": "wFCJktddjTSB"
      },
      "outputs": [],
      "source": [
        "a + \" \"  + b"
      ]
    },
    {
      "cell_type": "raw",
      "metadata": {
        "id": "qjYZZu7HjTSI"
      },
      "source": [
        "Be sure not to use the + operator between two different data types. \n",
        "We can’t concatenate strings and integers together, for instance. So, if we try to write:"
      ]
    },
    {
      "cell_type": "code",
      "execution_count": null,
      "metadata": {
        "id": "2sdTQSfCjTSP"
      },
      "outputs": [],
      "source": [
        "print(\"Sammy\" + 27)"
      ]
    },
    {
      "cell_type": "raw",
      "metadata": {
        "id": "HyYv2y2XjTSU"
      },
      "source": [
        "If we wanted to create the string \"Sammy27\", we could do so by putting the number 27 in quotes (\"27\") "
      ]
    },
    {
      "cell_type": "code",
      "execution_count": null,
      "metadata": {
        "id": "KHn5bI7HjTSX"
      },
      "outputs": [],
      "source": [
        "print(\"Sammy\"+\"27\")"
      ]
    },
    {
      "cell_type": "raw",
      "metadata": {
        "id": "KqCHCs6ZjTSf"
      },
      "source": [
        "Or if say "
      ]
    },
    {
      "cell_type": "code",
      "execution_count": null,
      "metadata": {
        "id": "RRN3Wc_cjTSg"
      },
      "outputs": [],
      "source": [
        "var=27"
      ]
    },
    {
      "cell_type": "code",
      "execution_count": null,
      "metadata": {
        "id": "9xQVdpRYjTSl"
      },
      "outputs": [],
      "source": [
        "print(\"Sammy\"+str(var))"
      ]
    },
    {
      "cell_type": "markdown",
      "metadata": {
        "id": "Dlfomh-NjTSt"
      },
      "source": [
        "### String Replication"
      ]
    },
    {
      "cell_type": "raw",
      "metadata": {
        "id": "ER9SrS11jTSu"
      },
      "source": [
        "When used with one string and one integer, * is the string replication operator, repeating a single string however many times you would like through the integer you provide.\n",
        "\n",
        "Let’s print out “Orko_” 9 times without typing out “Orko_” 9 times with the * operator:"
      ]
    },
    {
      "cell_type": "code",
      "execution_count": null,
      "metadata": {
        "id": "vIU3RCFdjTSx"
      },
      "outputs": [],
      "source": [
        "print(\"Orko_\" * 9)"
      ]
    },
    {
      "cell_type": "markdown",
      "metadata": {
        "id": "oNQXNsHdjTS2"
      },
      "source": [
        "## Formatting Text in Python"
      ]
    },
    {
      "cell_type": "raw",
      "metadata": {
        "id": "mqkobk0KjTS4"
      },
      "source": [
        "Declare with Single or Double Matching Quotes"
      ]
    },
    {
      "cell_type": "code",
      "execution_count": null,
      "metadata": {
        "id": "xIXEOIgtjTS6"
      },
      "outputs": [],
      "source": [
        "'Metakgp says, \"Hello!\"'"
      ]
    },
    {
      "cell_type": "code",
      "execution_count": null,
      "metadata": {
        "id": "pjbkRkWHjTTA"
      },
      "outputs": [],
      "source": [
        "\"Metakgp's projects are great.\""
      ]
    },
    {
      "cell_type": "raw",
      "metadata": {
        "id": "CfLl5ZRTjTTD"
      },
      "source": [
        "\n",
        "\n",
        "```\n",
        "# This is formatted as code\n",
        "```\n",
        "\n",
        "Multiple Line Strings"
      ]
    },
    {
      "cell_type": "raw",
      "metadata": {
        "id": "xbigQHDDjTTF"
      },
      "source": [
        "Why?\n",
        "Human Readability!"
      ]
    },
    {
      "cell_type": "raw",
      "metadata": {
        "id": "67CeUHp7jTTG"
      },
      "source": [
        "Robert wanted to write a Poem, but wait !"
      ]
    },
    {
      "cell_type": "code",
      "execution_count": null,
      "metadata": {
        "id": "24Zox-xQjTTH"
      },
      "outputs": [],
      "source": [
        "poem=\"Two roads diverged in a yellow wood,\n",
        "And sorry I could not travel both\n",
        "And be one traveler, long I stood\n",
        "And looked down one as far as I could\n",
        "To where it bent in the undergrowth;\n",
        "\""
      ]
    },
    {
      "cell_type": "code",
      "execution_count": null,
      "metadata": {
        "id": "82xfw505jTTM"
      },
      "outputs": [],
      "source": [
        "poem='''\n",
        "Two roads diverged in a yellow wood,\n",
        "And sorry I could not travel both\n",
        "And be one traveler, long I stood\n",
        "And looked down one as far as I could\n",
        "To where it bent in the undergrowth;\n",
        "'''"
      ]
    },
    {
      "cell_type": "code",
      "execution_count": null,
      "metadata": {
        "id": "Hd2c2NV1jTTP"
      },
      "outputs": [],
      "source": [
        "print(poem)"
      ]
    },
    {
      "cell_type": "raw",
      "metadata": {
        "id": "mtZqDSq0jTTR"
      },
      "source": [
        "Escape Characters"
      ]
    },
    {
      "cell_type": "markdown",
      "metadata": {
        "id": "39iDb8a9jTTR"
      },
      "source": [
        "![Image](./img/escape_character.png  \"image\")\n",
        "\n"
      ]
    },
    {
      "cell_type": "raw",
      "metadata": {
        "id": "PtavxRqAjTTS"
      },
      "source": [
        "Let’s use an escape character to add the quotation marks to the example on quotation marks above, but this time we’ll use double quotes:"
      ]
    },
    {
      "cell_type": "code",
      "execution_count": null,
      "metadata": {
        "id": "QJCUE5ArjTTT"
      },
      "outputs": [],
      "source": [
        "print(\"Pat's dog says, \"Hello!\\\"\")"
      ]
    },
    {
      "cell_type": "code",
      "execution_count": null,
      "metadata": {
        "id": "hUqDUvsSjTTW"
      },
      "outputs": [],
      "source": [
        "print('Pat's dog says, \"Hello!\\\"')"
      ]
    },
    {
      "cell_type": "code",
      "execution_count": null,
      "metadata": {
        "id": "Cge7qvcnjTTa"
      },
      "outputs": [],
      "source": [
        "print(\"Pat's dog says, \\\"Hello!\\\"\")"
      ]
    },
    {
      "cell_type": "raw",
      "metadata": {
        "id": "2cUc4omljTTd"
      },
      "source": [
        "Exercise : Put them in single quotes!"
      ]
    },
    {
      "cell_type": "code",
      "execution_count": null,
      "metadata": {
        "id": "KBQH3AgEjTTg"
      },
      "outputs": [],
      "source": [
        "print('Pat\\'s dog says, \"Hello!\\\"')"
      ]
    },
    {
      "cell_type": "markdown",
      "metadata": {
        "id": "tVG9nwOKjTTj"
      },
      "source": [
        "## Raw Strings\n",
        "What if we don’t want special formatting within our strings? For example, we may need to compare or evaluate strings of computer code that use the backslash on purpose, so we won’t want Python to use it as an escape character.\n",
        "\n",
        "A raw string tells Python to ignore all formatting within a string, including escape characters.\n",
        "\n",
        "We create a raw string by putting an r in front of the string, right before the beginning quotation mark:\n",
        "\n"
      ]
    },
    {
      "cell_type": "code",
      "execution_count": null,
      "metadata": {
        "id": "eCYm3-DUjTTj"
      },
      "outputs": [],
      "source": [
        "print(\"This is \\x61 \\ngood example\")"
      ]
    },
    {
      "cell_type": "code",
      "execution_count": null,
      "metadata": {
        "id": "brOd6ZjjjTTn"
      },
      "outputs": [],
      "source": [
        "print(r\"This is \\x61 \\ngood example\")"
      ]
    },
    {
      "cell_type": "markdown",
      "metadata": {
        "id": "Y6kPvczXjTTu"
      },
      "source": [
        "## String Formatting"
      ]
    },
    {
      "cell_type": "markdown",
      "metadata": {
        "id": "WBsPu2gEjTTv"
      },
      "source": [
        "![Image](./img/format.png \"image\")"
      ]
    },
    {
      "cell_type": "code",
      "execution_count": null,
      "metadata": {
        "id": "kffp5qn3jTTw"
      },
      "outputs": [],
      "source": [
        "print(\"Hunter has {} MacBooks.\".format(3))"
      ]
    },
    {
      "cell_type": "raw",
      "metadata": {
        "id": "xT9RznAgjTTy"
      },
      "source": [
        "We can also assign a variable to be equal to the value of a string that has formatter placeholders:"
      ]
    },
    {
      "cell_type": "code",
      "execution_count": null,
      "metadata": {
        "id": "sPG5BGkDjTTy"
      },
      "outputs": [],
      "source": [
        "open_string = \"We love {}.\"\n",
        "print(open_string.format(\"Open Source\"))"
      ]
    },
    {
      "cell_type": "markdown",
      "metadata": {
        "id": "YWYgc0R_jTT-"
      },
      "source": [
        "### Using Formatters with Multiple Placeholders\n"
      ]
    },
    {
      "cell_type": "code",
      "execution_count": null,
      "metadata": {
        "id": "omKY_86FjTT_"
      },
      "outputs": [],
      "source": [
        "new_open_string = \"We love {} {}.\"                          #2 {} placeholders\n",
        "print(new_open_string.format(\"open-source\", \"software\"))    #Pass 2 strings into method, separated by a comma"
      ]
    },
    {
      "cell_type": "raw",
      "metadata": {
        "id": "ZZ5mqVnVjTUC"
      },
      "source": [
        "Keyword Arguments"
      ]
    },
    {
      "cell_type": "code",
      "execution_count": null,
      "metadata": {
        "id": "nGgl9OoSjTUD"
      },
      "outputs": [],
      "source": [
        "print(\"Orko the {0} has a pet {1}!\".format(\"Hunter\", \"cat\"))"
      ]
    },
    {
      "cell_type": "code",
      "execution_count": null,
      "metadata": {
        "id": "PhdWzNu2jTUG"
      },
      "outputs": [],
      "source": [
        "print(\"Orko the {1} has a pet {0}!\".format(\"Hunter\", \"cat\"))"
      ]
    },
    {
      "cell_type": "markdown",
      "metadata": {
        "id": "g6EZkpOJjTUI"
      },
      "source": [
        "### Keyword arguments in format"
      ]
    },
    {
      "cell_type": "code",
      "execution_count": null,
      "metadata": {
        "id": "anZ0SjdajTUJ"
      },
      "outputs": [],
      "source": [
        "print(\"Octo the {0} {1} a {pr}.\".format(\"cat\", \"made\", pr = \"pull request\"))"
      ]
    },
    {
      "cell_type": "raw",
      "metadata": {
        "id": "-2GhPZ1XjTUL"
      },
      "source": [
        "By default strings are left-justified within the field, and numbers are right-justified."
      ]
    },
    {
      "cell_type": "markdown",
      "metadata": {
        "id": "X3Hfb7smjTUO"
      },
      "source": [
        "## Specifying Type\n",
        "We can include more parameters within the curly braces of our syntax. We’ll use the format code syntax {`field_name`:`conversion`}, where **field_name** specifies the index number of the argument to the `str.format()` method that we went through in the reordering section, and **conversion** refers to the conversion code of the data type that you’re using with the formatter."
      ]
    },
    {
      "cell_type": "code",
      "execution_count": null,
      "metadata": {
        "id": "ElFybY_4jTUP"
      },
      "outputs": [],
      "source": [
        "print(\"Sammy ate {0:f} percent of a {1}!\".format(75, \"pizza\"))"
      ]
    },
    {
      "cell_type": "code",
      "execution_count": null,
      "metadata": {
        "id": "yNZV60tnjTUY"
      },
      "outputs": [],
      "source": [
        "print(\"Sammy ate {0:.3f} percent of a pizza!\".format(75.765367))"
      ]
    },
    {
      "cell_type": "markdown",
      "metadata": {
        "id": "imFYBescjTUc"
      },
      "source": [
        "***If you would like no decimal places to be shown, you can write your formatter like so:***"
      ]
    },
    {
      "cell_type": "code",
      "execution_count": null,
      "metadata": {
        "id": "eyDDZF4xjTUc"
      },
      "outputs": [],
      "source": [
        "print(\"Sammy ate {0:.0f} percent of a pizza!\".format(75.165367))"
      ]
    },
    {
      "cell_type": "markdown",
      "metadata": {
        "id": "sZZULl3pjTUd"
      },
      "source": [
        "## Important string functions"
      ]
    },
    {
      "cell_type": "markdown",
      "metadata": {
        "id": "d6v6GsmLjTVK"
      },
      "source": [
        "### split()\n",
        "Splits the string into a list according to the passed delimiter"
      ]
    },
    {
      "cell_type": "code",
      "execution_count": null,
      "metadata": {
        "id": "E8Pw-LGKjTVL"
      },
      "outputs": [],
      "source": [
        "text= 'Love thy neighbor'\n",
        "\n",
        "# splits at space\n",
        "print(text.split())"
      ]
    },
    {
      "cell_type": "code",
      "execution_count": null,
      "metadata": {
        "id": "YyvGRei4jTVN"
      },
      "outputs": [],
      "source": [
        "grocery = 'Milk, Chicken, Bread'"
      ]
    },
    {
      "cell_type": "code",
      "execution_count": null,
      "metadata": {
        "id": "4Xyet9BbjTVQ"
      },
      "outputs": [],
      "source": [
        "# splits at ','\n",
        "print(grocery.split(', '))"
      ]
    },
    {
      "cell_type": "code",
      "execution_count": null,
      "metadata": {
        "id": "ScwyUYeGjTVX"
      },
      "outputs": [],
      "source": [
        "# Splitting at ':'\n",
        "print(grocery.split(':'))"
      ]
    },
    {
      "cell_type": "markdown",
      "metadata": {
        "id": "xaPqhOAVjTVe"
      },
      "source": [
        "## str.replace()"
      ]
    },
    {
      "cell_type": "raw",
      "metadata": {
        "id": "tDFpIQqTjTVe"
      },
      "source": [
        "Takes original string and returns an updated string with some replacement."
      ]
    },
    {
      "cell_type": "code",
      "execution_count": null,
      "metadata": {
        "id": "0XxO116CjTVe"
      },
      "outputs": [],
      "source": [
        "balloon = \"Sammy has a balloon.\""
      ]
    },
    {
      "cell_type": "code",
      "execution_count": null,
      "metadata": {
        "id": "ZgQ8EYEPjTVj",
        "colab": {
          "base_uri": "https://localhost:8080/"
        },
        "outputId": "82d4be68-92db-4cf5-f0e8-7a810a1f030f"
      },
      "outputs": [
        {
          "output_type": "stream",
          "name": "stdout",
          "text": [
            "Sammy had a balloon.\n"
          ]
        }
      ],
      "source": [
        "print(balloon.replace(\"has\",\"had\"))"
      ]
    },
    {
      "cell_type": "markdown",
      "metadata": {
        "id": "ZjsedB68jTVk"
      },
      "source": [
        "### Making Strings Upper and Lower Case"
      ]
    },
    {
      "cell_type": "code",
      "source": [
        ""
      ],
      "metadata": {
        "id": "RqcKioExyUo9"
      },
      "execution_count": null,
      "outputs": []
    },
    {
      "cell_type": "code",
      "execution_count": null,
      "metadata": {
        "id": "nIgWYheZjTVl",
        "colab": {
          "base_uri": "https://localhost:8080/"
        },
        "outputId": "f085c8bd-0b6a-4209-be0c-17696acfc2cf"
      },
      "outputs": [
        {
          "output_type": "stream",
          "name": "stdout",
          "text": [
            "SAMMY SHARK\n"
          ]
        }
      ],
      "source": [
        "ss = \"Sammy Shark\"\n",
        "print(ss.upper())"
      ]
    },
    {
      "cell_type": "code",
      "execution_count": null,
      "metadata": {
        "id": "0vcThYBNjTVl",
        "colab": {
          "base_uri": "https://localhost:8080/"
        },
        "outputId": "f4f85d2f-6568-46e7-f441-648eee9bb8e9"
      },
      "outputs": [
        {
          "output_type": "stream",
          "name": "stdout",
          "text": [
            "sammy shark\n"
          ]
        }
      ],
      "source": [
        "print(ss.lower())"
      ]
    },
    {
      "cell_type": "raw",
      "metadata": {
        "id": "0wFMKnm-jTVn"
      },
      "source": [
        "Boolean Methods on Strings"
      ]
    },
    {
      "cell_type": "markdown",
      "metadata": {
        "id": "NN9ycHfEjTVv"
      },
      "source": [
        "![img](./img/string_boolean.png \"img\")"
      ]
    },
    {
      "cell_type": "code",
      "execution_count": null,
      "metadata": {
        "id": "7U7qMiORjTVw",
        "colab": {
          "base_uri": "https://localhost:8080/"
        },
        "outputId": "089d911f-99b4-447e-d513-907972bed941"
      },
      "outputs": [
        {
          "output_type": "stream",
          "name": "stdout",
          "text": [
            "True\n",
            "False\n"
          ]
        }
      ],
      "source": [
        "number = \"5\"\n",
        "letters = \"abcdef\"\n",
        "\n",
        "print(number.isnumeric())\n",
        "print(letters.isnumeric())"
      ]
    },
    {
      "cell_type": "markdown",
      "metadata": {
        "id": "aMXPxyVLjTWS"
      },
      "source": [
        "### Some Hands-on!"
      ]
    },
    {
      "cell_type": "code",
      "metadata": {
        "id": "Yhw5Dg-ojTWS",
        "colab": {
          "base_uri": "https://localhost:8080/",
          "height": 132
        },
        "outputId": "78ed2c10-bbbf-4f55-e943-344ebf25e5fa"
      },
      "source": [
        "## Question\n",
        "\n",
        "Take a string and check if it's palindrome."
      ],
      "execution_count": null,
      "outputs": [
        {
          "output_type": "error",
          "ename": "SyntaxError",
          "evalue": "ignored",
          "traceback": [
            "\u001b[0;36m  File \u001b[0;32m\"<ipython-input-10-4d8c49827e61>\"\u001b[0;36m, line \u001b[0;32m3\u001b[0m\n\u001b[0;31m    Take a string and check if it's palindrome.\u001b[0m\n\u001b[0m         ^\u001b[0m\n\u001b[0;31mSyntaxError\u001b[0m\u001b[0;31m:\u001b[0m invalid syntax\n"
          ]
        }
      ]
    },
    {
      "cell_type": "code",
      "execution_count": null,
      "metadata": {
        "id": "BIG8V8h7zy0q"
      },
      "outputs": [],
      "source": [
        "# name = "
      ]
    },
    {
      "cell_type": "markdown",
      "metadata": {
        "id": "eExRP9IWzy0s"
      },
      "source": [
        "## Question\n",
        "\n",
        "Reverse the word order of a sentence"
      ]
    },
    {
      "cell_type": "code",
      "execution_count": null,
      "metadata": {
        "id": "mnuxTcvjzy0y"
      },
      "outputs": [],
      "source": [
        "sen = \"Python is awesome\"\n",
        "# Your code"
      ]
    },
    {
      "cell_type": "markdown",
      "metadata": {
        "id": "_4NhILsvzy01"
      },
      "source": [
        "## Question\n",
        "\n",
        "Check if a Substring is Present in a Given String"
      ]
    },
    {
      "cell_type": "code",
      "execution_count": null,
      "metadata": {
        "id": "jknJF0aHzy03"
      },
      "outputs": [],
      "source": [
        "string = \"Sandeep Kumar Mishra\"\n",
        "sub = \"deep\"\n",
        "\n",
        "# Your code"
      ]
    },
    {
      "cell_type": "markdown",
      "metadata": {
        "id": "K7oEUXxNzy05"
      },
      "source": [
        "## Question\n",
        "\n",
        "Check if the characters in a substring are present in a Given String"
      ]
    },
    {
      "cell_type": "code",
      "execution_count": null,
      "metadata": {
        "id": "Eh5iCsQezy07"
      },
      "outputs": [],
      "source": [
        "string = \"Parth Vader\"\n",
        "sub = \"darth\"\n",
        "\n",
        "# Your code"
      ]
    },
    {
      "cell_type": "markdown",
      "metadata": {
        "id": "6h8gf3tMzy08"
      },
      "source": [
        "## Question\n",
        "\n",
        "Check if a string contains repeated halves. (Assume the string's length is even)"
      ]
    },
    {
      "cell_type": "code",
      "execution_count": null,
      "metadata": {
        "id": "XVgXayzazy0-"
      },
      "outputs": [],
      "source": [
        "string = \"BonBon\"  # Contains repeated halves\n",
        "\n",
        "# Your code"
      ]
    }
  ],
  "metadata": {
    "colab": {
      "name": "Copy of 2.Strings.ipynb",
      "provenance": [],
      "collapsed_sections": [
        "Dlfomh-NjTSt",
        "aMXPxyVLjTWS"
      ]
    },
    "kernelspec": {
      "display_name": "Python 3",
      "language": "python",
      "name": "python3"
    },
    "language_info": {
      "codemirror_mode": {
        "name": "ipython",
        "version": 3
      },
      "file_extension": ".py",
      "mimetype": "text/x-python",
      "name": "python",
      "nbconvert_exporter": "python",
      "pygments_lexer": "ipython3",
      "version": "3.6.8"
    }
  },
  "nbformat": 4,
  "nbformat_minor": 0
}
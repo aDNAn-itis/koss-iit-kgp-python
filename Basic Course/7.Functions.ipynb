{
  "cells": [
    {
      "cell_type": "markdown",
      "metadata": {
        "id": "LRTKdDji14VB"
      },
      "source": [
        "## Topic : Functions\n",
        "\n",
        "* A function is a block of organized, reusable code that is used to perform a single, related action. Functions provide better modularity for your application and a high degree of code reusing.\n",
        "\n",
        "* As you already know, Python gives you many built-in functions like print(), etc. but you can also create your own functions. These functions are called user-defined functions.\n",
        "\n",
        "* Exist in other languages such as C and C++ too."
      ]
    },
    {
      "cell_type": "markdown",
      "metadata": {
        "id": "mU5p7Zrl14VJ"
      },
      "source": [
        "### Structure\n",
        "\n",
        "You can define functions to provide the required functionality. Here are simple rules to define a function in Python.\n",
        "\n",
        "* Function blocks begin with the keyword **def** followed by the function name and parentheses ( ( ) ).\n",
        "\n",
        "* Any input parameters or arguments should be placed within these parentheses. You can also define parameters inside these parentheses.\n",
        "\n",
        "* The first statement of a function can be an optional statement - the documentation string of the function or docstring.\n",
        "\n",
        "* The code block within every function starts with a colon (:) and is indented.\n",
        "\n",
        "* The statement return [expression] exits a function, optionally passing back an expression to the caller. A return statement with no arguments is the same as return None.\n",
        "\n",
        "---\n",
        "```\n",
        "def functionname( parameters ):\n",
        "   \"function_docstring\"\n",
        "   function_suite\n",
        "   return [expression]\n",
        "```"
      ]
    },
    {
      "cell_type": "code",
      "execution_count": 60,
      "metadata": {
        "colab": {
          "base_uri": "https://localhost:8080/",
          "height": 35
        },
        "id": "1wvqj64l14VK",
        "outputId": "a6939685-a21d-4d47-abf0-1c60ebed7e59"
      },
      "outputs": [
        {
          "data": {
            "application/vnd.google.colaboratory.intrinsic+json": {
              "type": "string"
            },
            "text/plain": [
              "'some valueanother valuesome value'"
            ]
          },
          "execution_count": 60,
          "metadata": {},
          "output_type": "execute_result"
        }
      ],
      "source": [
        "def function_name(parameter1, parameter2):\n",
        "    return parameter1 + parameter2 + parameter1\n",
        "    # Perform some operations on the parameters\n",
        "    # return some value as a result of the computation\n",
        "    \n",
        "\n",
        "argument1 = 'some value'\n",
        "argument2 = 'another value'\n",
        "return_value = function_name(argument1, argument2)\n",
        "return_value"
      ]
    },
    {
      "cell_type": "code",
      "execution_count": 63,
      "metadata": {
        "colab": {
          "base_uri": "https://localhost:8080/"
        },
        "id": "mpCJ5SS7EAZk",
        "outputId": "bf53daed-57ab-4f55-bf1a-990b21485efa"
      },
      "outputs": [
        {
          "name": "stdout",
          "output_type": "stream",
          "text": [
            "None\n"
          ]
        }
      ],
      "source": [
        "def function_name(parameter1, parameter2):\n",
        "    # Perform some operations on the parameters\n",
        "    # return some value as a result of the computation\n",
        "    # return some value another value\n",
        "    return\n",
        "    return argument1 + argument2\n",
        "\n",
        "argument1 = 'some value'\n",
        "argument2 = 'another value'\n",
        "return_value = function_name(argument1, argument2)\n",
        "print(return_value)"
      ]
    },
    {
      "cell_type": "code",
      "execution_count": 64,
      "metadata": {
        "colab": {
          "base_uri": "https://localhost:8080/"
        },
        "id": "-4jEpMDW14VK",
        "outputId": "cb51e875-c39b-46d6-e86b-35db341b47e7"
      },
      "outputs": [
        {
          "name": "stdout",
          "output_type": "stream",
          "text": [
            "Square of 5: 25\n"
          ]
        }
      ],
      "source": [
        "def square(number):\n",
        "    square_number = number*number # number**2\n",
        "    return square_number\n",
        "\n",
        "blablabla = square(5)\n",
        "print('Square of 5:', blablabla)"
      ]
    },
    {
      "cell_type": "code",
      "execution_count": 65,
      "metadata": {
        "colab": {
          "base_uri": "https://localhost:8080/"
        },
        "id": "eKSN61Cx14VL",
        "outputId": "2e1cb67c-4fc9-4a7c-dff7-b859a11dab3a"
      },
      "outputs": [
        {
          "name": "stdout",
          "output_type": "stream",
          "text": [
            "3 is odd: True\n",
            "4 is odd: False\n"
          ]
        }
      ],
      "source": [
        "def is_odd(number):\n",
        "    mod = number % 2\n",
        "    if mod == 1:\n",
        "        return True\n",
        "    else:\n",
        "        return False\n",
        "\n",
        "odd_3 = is_odd(3)\n",
        "odd_4 = is_odd(4)\n",
        "\n",
        "print('3 is odd:', odd_3)\n",
        "print('4 is odd:', odd_4)"
      ]
    },
    {
      "cell_type": "markdown",
      "metadata": {
        "id": "mwob15zD14VN"
      },
      "source": [
        "#### Default Arguments"
      ]
    },
    {
      "cell_type": "code",
      "execution_count": 66,
      "metadata": {
        "colab": {
          "base_uri": "https://localhost:8080/"
        },
        "id": "Z1UusNHe14VN",
        "outputId": "b8afbe5b-d86d-4166-f09e-906d3cf7ffad"
      },
      "outputs": [
        {
          "name": "stdout",
          "output_type": "stream",
          "text": [
            "Name:  Aditya\n",
            "Age  19\n",
            "Name:  Aditi\n",
            "Age  25\n"
          ]
        }
      ],
      "source": [
        "def printinfo( name, age = 25 ):\n",
        "   print (\"Name: \", name)\n",
        "   print (\"Age \", age)\n",
        "   return\n",
        "\n",
        "# Now you can call printinfo function\n",
        "printinfo( age = 19, name = \"Aditya\" )\n",
        "printinfo( name = \"Aditi\" )"
      ]
    },
    {
      "cell_type": "code",
      "execution_count": 69,
      "metadata": {
        "colab": {
          "base_uri": "https://localhost:8080/"
        },
        "id": "KAQ6p2p914VO",
        "outputId": "3c07a435-fcf1-4fa4-9e1c-bb8bcd72f3fc"
      },
      "outputs": [
        {
          "name": "stdout",
          "output_type": "stream",
          "text": [
            "[10]\n",
            "[10, 10]\n",
            "[10, 10, 10]\n"
          ]
        }
      ],
      "source": [
        "# Be careful though!\n",
        "def gotcha( mylist = [] ):    # Mutable types are retained\n",
        "    mylist.append(10)\n",
        "    print(mylist)\n",
        "\n",
        "gotcha()\n",
        "gotcha()\n",
        "gotcha()"
      ]
    },
    {
      "cell_type": "markdown",
      "metadata": {
        "id": "4Pa_toe014VO"
      },
      "source": [
        "#### Global and Local Scope"
      ]
    },
    {
      "cell_type": "markdown",
      "metadata": {
        "id": "4TVXul1914VP"
      },
      "source": [
        "When accessing and using a variable outside of a function's scope, make sure you don't declare it as a local variable inside it."
      ]
    },
    {
      "cell_type": "code",
      "execution_count": 75,
      "metadata": {
        "id": "eAiwCtdi14VP"
      },
      "outputs": [],
      "source": [
        "x = \"global\"\n",
        "\n",
        "def scope1():\n",
        "    print(x) ## fine\n",
        "    \n",
        "def scope2():\n",
        "    x = \"mylocal\"\n",
        "    print(x) ## fine, since you declared it completely afresh, and not using the global 'x' in any way\n",
        "\n",
        "def scope3():\n",
        "    print(x)      ## not fine\n",
        "    x = \"mylocal\"\n",
        "    print(x)"
      ]
    },
    {
      "cell_type": "code",
      "execution_count": 71,
      "metadata": {
        "colab": {
          "base_uri": "https://localhost:8080/"
        },
        "id": "QsGDDmkw14VP",
        "outputId": "f95d9d8f-57af-4c4f-a9c4-83d5536f8746"
      },
      "outputs": [
        {
          "name": "stdout",
          "output_type": "stream",
          "text": [
            "global\n"
          ]
        }
      ],
      "source": [
        "scope1()"
      ]
    },
    {
      "cell_type": "code",
      "execution_count": 72,
      "metadata": {
        "colab": {
          "base_uri": "https://localhost:8080/"
        },
        "id": "BlJuslta14VP",
        "outputId": "19229a62-76ea-455f-c29a-2dbc2d7b83c7"
      },
      "outputs": [
        {
          "name": "stdout",
          "output_type": "stream",
          "text": [
            "mylocal\n"
          ]
        }
      ],
      "source": [
        "scope2()"
      ]
    },
    {
      "cell_type": "code",
      "execution_count": 76,
      "metadata": {
        "colab": {
          "base_uri": "https://localhost:8080/"
        },
        "id": "74NpYb0T14VQ",
        "outputId": "20f4d272-90ed-4fc9-8259-5542d72ed830"
      },
      "outputs": [
        {
          "name": "stdout",
          "output_type": "stream",
          "text": [
            "mylocal\n"
          ]
        }
      ],
      "source": [
        "scope3()"
      ]
    },
    {
      "cell_type": "markdown",
      "metadata": {
        "id": "vov0b9x514VQ"
      },
      "source": [
        "#### Variable length params"
      ]
    },
    {
      "cell_type": "code",
      "execution_count": 77,
      "metadata": {
        "id": "ZrWVJ77D14VQ"
      },
      "outputs": [],
      "source": [
        "def myvars(*v):\n",
        "    print(v)"
      ]
    },
    {
      "cell_type": "code",
      "execution_count": 78,
      "metadata": {
        "colab": {
          "base_uri": "https://localhost:8080/"
        },
        "id": "mhwm4-c_14VQ",
        "outputId": "c951398d-6992-4e17-c6ad-dcafca496e23"
      },
      "outputs": [
        {
          "name": "stdout",
          "output_type": "stream",
          "text": [
            "(1, 2, 3, 4, 'something', 'else', 45, 4342, 6347)\n"
          ]
        }
      ],
      "source": [
        "myvars(1,2,3,4,\"something\",\"else\", 45, 4342, 6347)"
      ]
    },
    {
      "cell_type": "markdown",
      "metadata": {
        "id": "3bHCvW2E14VR"
      },
      "source": [
        "#### Add docstring"
      ]
    },
    {
      "cell_type": "code",
      "execution_count": 81,
      "metadata": {
        "id": "G99PVKr314VR"
      },
      "outputs": [],
      "source": [
        "def sum(num1, num2):\n",
        "    \"\"\"\n",
        "    A function that calculates the sum of two integers.\n",
        "\n",
        "    Parameters:\n",
        "    num1 (int): The first integer\n",
        "    num2 (int): The second integer\n",
        "\n",
        "    Returns:\n",
        "    int: The sum of the two integers\n",
        "    \"\"\"\n",
        "    return num1 + num2"
      ]
    },
    {
      "cell_type": "code",
      "execution_count": null,
      "metadata": {
        "id": "SuVmPyf-14VR"
      },
      "outputs": [],
      "source": [
        "#print(sum(1, 2))\n",
        "print(sum.__doc__)      # Very useful while writing packages"
      ]
    },
    {
      "cell_type": "markdown",
      "metadata": {
        "id": "SBK2pB1x14VS"
      },
      "source": [
        "Note that this a very trivial example with no real use. To understand the implications of this, please read about **closures** in Python"
      ]
    },
    {
      "cell_type": "markdown",
      "metadata": {
        "id": "bpNVf94B14VS"
      },
      "source": [
        "### Exercise\n",
        "#### Q. Write a function named \"Greet_Human()\" to ask the user for his/her name and print a greeting \"Hello, {name}\".  If the user enters \"No one\", then print \"Valar Morghulis\"."
      ]
    },
    {
      "cell_type": "code",
      "execution_count": null,
      "metadata": {
        "id": "uqowMh1f14VT"
      },
      "outputs": [],
      "source": [
        "## Your code here\n",
        "def Greet_Human():\n",
        "    ##Fill\n",
        "    return\n",
        "Greet_Human()"
      ]
    },
    {
      "cell_type": "markdown",
      "metadata": {
        "id": "b67WnN_614VT"
      },
      "source": [
        "#### Q. Write another function that prints the first n elements of fibonacci sequence."
      ]
    },
    {
      "cell_type": "code",
      "execution_count": 86,
      "metadata": {
        "colab": {
          "base_uri": "https://localhost:8080/"
        },
        "id": "Id8UF2zK14VT",
        "outputId": "00b48c3d-b329-4538-e274-ef6aa5421ec6"
      },
      "outputs": [
        {
          "name": "stdout",
          "output_type": "stream",
          "text": [
            "[0, 1, 1, 2]\n"
          ]
        }
      ],
      "source": [
        "#try it out yourself!"
      ]
    }
  ],
  "metadata": {
    "colab": {
      "collapsed_sections": [],
      "name": "7.Functions.ipynb",
      "provenance": []
    },
    "kernelspec": {
      "display_name": "Python 3",
      "language": "python",
      "name": "python3"
    },
    "language_info": {
      "codemirror_mode": {
        "name": "ipython",
        "version": 3
      },
      "file_extension": ".py",
      "mimetype": "text/x-python",
      "name": "python",
      "nbconvert_exporter": "python",
      "pygments_lexer": "ipython3",
      "version": "3.6.8"
    }
  },
  "nbformat": 4,
  "nbformat_minor": 0
}

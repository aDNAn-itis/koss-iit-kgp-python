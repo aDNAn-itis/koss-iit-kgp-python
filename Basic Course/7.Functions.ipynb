{
  "cells": [
    {
      "cell_type": "markdown",
      "metadata": {
        "id": "LRTKdDji14VB"
      },
      "source": [
        "## Topic : Functions\n",
        "\n",
        "* A function is a block of organized, reusable code that is used to perform a single, related action. Functions provide better modularity for your application and a high degree of code reusing.\n",
        "\n",
        "* As you already know, Python gives you many built-in functions like print(), etc. but you can also create your own functions. These functions are called user-defined functions.\n",
        "\n",
        "* Exist in other languages such as C and C++ too."
      ]
    },
    {
      "cell_type": "markdown",
      "metadata": {
        "id": "mU5p7Zrl14VJ"
      },
      "source": [
        "### Structure\n",
        "\n",
        "You can define functions to provide the required functionality. Here are simple rules to define a function in Python.\n",
        "\n",
        "* Function blocks begin with the keyword def followed by the function name and parentheses ( ( ) ).\n",
        "\n",
        "* Any input parameters or arguments should be placed within these parentheses. You can also define parameters inside these parentheses.\n",
        "\n",
        "* The first statement of a function can be an optional statement - the documentation string of the function or docstring.\n",
        "\n",
        "* The code block within every function starts with a colon (:) and is indented.\n",
        "\n",
        "* The statement return [expression] exits a function, optionally passing back an expression to the caller. A return statement with no arguments is the same as return None.\n",
        "\n",
        "---\n",
        "```\n",
        "def functionname( parameters ):\n",
        "   \"function_docstring\"\n",
        "   function_suite\n",
        "   return [expression]\n",
        "```"
      ]
    },
    {
      "cell_type": "code",
      "execution_count": null,
      "metadata": {
        "id": "1wvqj64l14VK"
      },
      "outputs": [],
      "source": [
        "def function_name(parameter1, parameter2):\n",
        "    # Perform some operations on the parameters\n",
        "    # return some value as a result of the computation\n",
        "    pass\n",
        "\n",
        "argument1 = 'some value'\n",
        "argument2 = 'another value'\n",
        "return_value = function_name(argument1, argument2)"
      ]
    },
    {
      "cell_type": "code",
      "execution_count": null,
      "metadata": {
        "id": "mpCJ5SS7EAZk"
      },
      "outputs": [],
      "source": [
        "def function_name(parameter1, parameter2):\n",
        "    # Perform some operations on the parameters\n",
        "    # return some value as a result of the computation\n",
        "    # return some value another value\n",
        "    pass\n",
        "\n",
        "argument1 = 'some value'\n",
        "argument2 = 'another value'\n",
        "return_value = function_name(argument1, argument2)\n",
        "# print(return_value)"
      ]
    },
    {
      "cell_type": "code",
      "execution_count": null,
      "metadata": {
        "id": "-4jEpMDW14VK"
      },
      "outputs": [],
      "source": [
        "def square(number):\n",
        "    square_number = number*number\n",
        "    return square_number\n",
        "\n",
        "square_5 = square(5)\n",
        "print('Square of 5:', square_5)"
      ]
    },
    {
      "cell_type": "code",
      "execution_count": null,
      "metadata": {
        "id": "eKSN61Cx14VL"
      },
      "outputs": [],
      "source": [
        "def is_odd(number):\n",
        "    mod = number % 2\n",
        "    if mod == 1:\n",
        "        return True\n",
        "    else:\n",
        "        return False\n",
        "\n",
        "odd_3 = is_odd(3)\n",
        "odd_4 = is_odd(4)\n",
        "\n",
        "print('3 is odd:', odd_3)\n",
        "print('4 is odd:', odd_4)"
      ]
    },
    {
      "cell_type": "markdown",
      "metadata": {
        "id": "mwob15zD14VN"
      },
      "source": [
        "#### Default Arguments"
      ]
    },
    {
      "cell_type": "code",
      "execution_count": null,
      "metadata": {
        "id": "Z1UusNHe14VN"
      },
      "outputs": [],
      "source": [
        "def printinfo( name, age = 25 ):\n",
        "   print (\"Name: \", name)\n",
        "   print (\"Age \", age)\n",
        "   return\n",
        "\n",
        "# Now you can call printinfo function\n",
        "printinfo( age = 19, name = \"Amrta\" )\n",
        "printinfo( name = \"Amy\" )"
      ]
    },
    {
      "cell_type": "code",
      "execution_count": null,
      "metadata": {
        "id": "KAQ6p2p914VO"
      },
      "outputs": [],
      "source": [
        "# Be careful though!\n",
        "def gotcha( mylist = [] ):    # Mutable types are retained\n",
        "    mylist.append(10)\n",
        "    print(mylist)\n",
        "\n",
        "gotcha()\n",
        "gotcha()\n",
        "gotcha()"
      ]
    },
    {
      "cell_type": "markdown",
      "metadata": {
        "id": "4Pa_toe014VO"
      },
      "source": [
        "#### Global and Local Scope"
      ]
    },
    {
      "cell_type": "markdown",
      "metadata": {
        "id": "4TVXul1914VP"
      },
      "source": [
        "When accessing and using a variable outside of a function's scope, make sure you don't declare it as a local variable inside it."
      ]
    },
    {
      "cell_type": "code",
      "execution_count": null,
      "metadata": {
        "id": "eAiwCtdi14VP"
      },
      "outputs": [],
      "source": [
        "x = \"global\"\n",
        "\n",
        "def scope1():\n",
        "    print(x) ## fine\n",
        "    \n",
        "def scope2():\n",
        "    x = \"mylocal\"\n",
        "    print(x) ## fine, since you declared it completely afresh, and not using the global 'x' in any way\n",
        "\n",
        "def scope3():\n",
        "    print(x)      ## not fine\n",
        "    x = \"mylocal\"\n",
        "    print(x)"
      ]
    },
    {
      "cell_type": "code",
      "execution_count": null,
      "metadata": {
        "id": "QsGDDmkw14VP"
      },
      "outputs": [],
      "source": [
        "scope1()"
      ]
    },
    {
      "cell_type": "code",
      "execution_count": null,
      "metadata": {
        "id": "BlJuslta14VP"
      },
      "outputs": [],
      "source": [
        "scope2()"
      ]
    },
    {
      "cell_type": "code",
      "execution_count": null,
      "metadata": {
        "id": "74NpYb0T14VQ"
      },
      "outputs": [],
      "source": [
        "scope3()"
      ]
    },
    {
      "cell_type": "markdown",
      "metadata": {
        "id": "vov0b9x514VQ"
      },
      "source": [
        "#### Variable length params"
      ]
    },
    {
      "cell_type": "code",
      "execution_count": null,
      "metadata": {
        "id": "ZrWVJ77D14VQ"
      },
      "outputs": [],
      "source": [
        "def myvars(*v):\n",
        "    print(v)"
      ]
    },
    {
      "cell_type": "code",
      "execution_count": null,
      "metadata": {
        "id": "mhwm4-c_14VQ"
      },
      "outputs": [],
      "source": [
        "myvars(1,2,3,4,\"something\",\"else\")"
      ]
    },
    {
      "cell_type": "markdown",
      "metadata": {
        "id": "3bHCvW2E14VR"
      },
      "source": [
        "#### Add docstring"
      ]
    },
    {
      "cell_type": "code",
      "execution_count": null,
      "metadata": {
        "id": "G99PVKr314VR"
      },
      "outputs": [],
      "source": [
        "def sum(num1, num2):\n",
        "    \"\"\"\n",
        "    A function that calculates the sum of two integers.\n",
        "\n",
        "    Parameters:\n",
        "    num1 (int): The first integer\n",
        "    num2 (int): The second integer\n",
        "\n",
        "    Returns:\n",
        "    int: The sum of the two integers\n",
        "    \"\"\"\n",
        "    return num1 + num2"
      ]
    },
    {
      "cell_type": "code",
      "execution_count": null,
      "metadata": {
        "id": "SuVmPyf-14VR"
      },
      "outputs": [],
      "source": [
        "print(sum.__doc__)      # Very useful while writing packages"
      ]
    },
    {
      "cell_type": "markdown",
      "metadata": {
        "id": "SBK2pB1x14VS"
      },
      "source": [
        "Note that this a very trivial example with no real use. To understand the implications of this, please read about **closures** in Python"
      ]
    },
    {
      "cell_type": "markdown",
      "metadata": {
        "id": "bpNVf94B14VS"
      },
      "source": [
        "### Exercise\n",
        "#### Q. Write a function named \"Greet_Human()\" to ask the user for his/her name and print a greeting \"Hello, {name}\".  If the user enters \"No one\", then print \"Valar Morghulis\"."
      ]
    },
    {
      "cell_type": "code",
      "execution_count": null,
      "metadata": {
        "id": "uqowMh1f14VT"
      },
      "outputs": [],
      "source": [
        "## Your code here\n",
        "def Greet_Human():\n",
        "    ##Fill\n",
        "    return\n",
        "Greet_Human()"
      ]
    },
    {
      "cell_type": "markdown",
      "metadata": {
        "id": "b67WnN_614VT"
      },
      "source": [
        "#### Q. Write another function that prints the first n elements of fibonacci sequence."
      ]
    },
    {
      "cell_type": "code",
      "execution_count": null,
      "metadata": {
        "id": "Id8UF2zK14VT"
      },
      "outputs": [],
      "source": [
        "##Your code here"
      ]
    }
  ],
  "metadata": {
    "colab": {
      "collapsed_sections": [],
      "name": "7.Functions.ipynb",
      "provenance": []
    },
    "kernelspec": {
      "display_name": "Python 3",
      "language": "python",
      "name": "python3"
    },
    "language_info": {
      "codemirror_mode": {
        "name": "ipython",
        "version": 3
      },
      "file_extension": ".py",
      "mimetype": "text/x-python",
      "name": "python",
      "nbconvert_exporter": "python",
      "pygments_lexer": "ipython3",
      "version": "3.6.8"
    }
  },
  "nbformat": 4,
  "nbformat_minor": 0
}

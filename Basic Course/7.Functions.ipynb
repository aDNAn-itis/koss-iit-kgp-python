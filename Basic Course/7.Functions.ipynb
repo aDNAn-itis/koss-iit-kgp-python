{
  "nbformat": 4,
  "nbformat_minor": 0,
  "metadata": {
    "kernelspec": {
      "display_name": "Python 3",
      "language": "python",
      "name": "python3"
    },
    "language_info": {
      "codemirror_mode": {
        "name": "ipython",
        "version": 3
      },
      "file_extension": ".py",
      "mimetype": "text/x-python",
      "name": "python",
      "nbconvert_exporter": "python",
      "pygments_lexer": "ipython3",
      "version": "3.6.8"
    },
    "colab": {
      "name": "7.Functions.ipynb",
      "provenance": [],
      "collapsed_sections": []
    }
  },
  "cells": [
    {
      "cell_type": "markdown",
      "metadata": {
        "id": "LRTKdDji14VB"
      },
      "source": [
        "## Topic : Functions\n",
        "\n",
        "* A function is a block of organized, reusable code that is used to perform a single, related action. Functions provide better modularity for your application and a high degree of code reusing.\n",
        "\n",
        "* As you already know, Python gives you many built-in functions like print(), etc. but you can also create your own functions. These functions are called user-defined functions.\n",
        "\n",
        "* Exist in other languages such as C and C++ too."
      ]
    },
    {
      "cell_type": "markdown",
      "metadata": {
        "id": "mU5p7Zrl14VJ"
      },
      "source": [
        "### Structure\n",
        "\n",
        "You can define functions to provide the required functionality. Here are simple rules to define a function in Python.\n",
        "\n",
        "* Function blocks begin with the keyword def followed by the function name and parentheses ( ( ) ).\n",
        "\n",
        "* Any input parameters or arguments should be placed within these parentheses. You can also define parameters inside these parentheses.\n",
        "\n",
        "* The first statement of a function can be an optional statement - the documentation string of the function or docstring.\n",
        "\n",
        "* The code block within every function starts with a colon (:) and is indented.\n",
        "\n",
        "* The statement return [expression] exits a function, optionally passing back an expression to the caller. A return statement with no arguments is the same as return None.\n",
        "\n",
        "---\n",
        "```\n",
        "def functionname( parameters ):\n",
        "   \"function_docstring\"\n",
        "   function_suite\n",
        "   return [expression]\n",
        "```"
      ]
    },
    {
      "cell_type": "code",
      "metadata": {
        "id": "1wvqj64l14VK"
      },
      "source": [
        "def function_name(parameter1, parameter2):\n",
        "    # Perform some operations on the parameters\n",
        "    # return some value as a result of the computation\n",
        "    pass\n",
        "\n",
        "argument1 = 'some value'\n",
        "argument2 = 'another value'\n",
        "return_value = function_name(argument1, argument2)"
      ],
      "execution_count": null,
      "outputs": []
    },
    {
      "cell_type": "code",
      "metadata": {
        "id": "mpCJ5SS7EAZk"
      },
      "source": [
        "def function_name(parameter1, parameter2):\r\n",
        "    # Perform some operations on the parameters\r\n",
        "    # return some value as a result of the computation\r\n",
        "    # return some value another value\r\n",
        "    pass\r\n",
        "\r\n",
        "argument1 = 'some value'\r\n",
        "argument2 = 'another value'\r\n",
        "return_value = function_name(argument1, argument2)\r\n",
        "# print(return_value)"
      ],
      "execution_count": null,
      "outputs": []
    },
    {
      "cell_type": "code",
      "metadata": {
        "id": "-4jEpMDW14VK"
      },
      "source": [
        "def square(number):\n",
        "    square_number = number*number\n",
        "    return square_number\n",
        "\n",
        "square_5 = square(5)\n",
        "print('Square of 5:', square_5)"
      ],
      "execution_count": null,
      "outputs": []
    },
    {
      "cell_type": "code",
      "metadata": {
        "id": "eKSN61Cx14VL"
      },
      "source": [
        "def is_odd(number):\n",
        "    mod = number % 2\n",
        "    if mod == 1:\n",
        "        return True\n",
        "    else:\n",
        "        return False\n",
        "\n",
        "odd_3 = is_odd(3)\n",
        "odd_4 = is_odd(4)\n",
        "\n",
        "print('3 is odd:', odd_3)\n",
        "print('4 is odd:', odd_4)"
      ],
      "execution_count": null,
      "outputs": []
    },
    {
      "cell_type": "markdown",
      "metadata": {
        "id": "0UKydHdS14VL"
      },
      "source": [
        "#### Pass by Reference vs Value\n",
        "* Immutable arguments are passed by value and Objects are passed by reference. The latter means if you change what a parameter refers to within a function, the change also reflects back in the calling function. To de-bind the scope, create and assign it to a different variable."
      ]
    },
    {
      "cell_type": "code",
      "metadata": {
        "scrolled": true,
        "id": "QP6m_BUU14VM"
      },
      "source": [
        "def changeme( mylist ):\n",
        "   \"This changes a passed list into this function\"\n",
        "   print (\"Values inside the function before change: \", mylist)\n",
        "   mylist[2]=50\n",
        "   print (\"Values inside the function after change: \", mylist)\n",
        "   return\n",
        "\n",
        "# Now you can call changeme function\n",
        "mylist = [10,20,30]\n",
        "changeme( mylist )\n",
        "print (\"Values outside the function: \", mylist)"
      ],
      "execution_count": null,
      "outputs": []
    },
    {
      "cell_type": "code",
      "metadata": {
        "id": "lE-0k8rj14VM"
      },
      "source": [
        "def changeme( mylist ):\n",
        "    '''Assign it to a different variable to de-bind the scope'''\n",
        "    my_new_list = list(mylist)\n",
        "    my_new_list[2] = 50\n",
        "    print(\"Value of new variable inside new list :- \",my_new_list)\n",
        "    return my_new_list\n",
        "\n",
        "mylist = [10,20,30]\n",
        "changeme( mylist )\n",
        "print(\"Values outside the function: \", mylist)"
      ],
      "execution_count": null,
      "outputs": []
    },
    {
      "cell_type": "code",
      "metadata": {
        "id": "-NARDBAG14VM"
      },
      "source": [
        "##Check the output for this.\n",
        "\n",
        "def changeme( mylist ):\n",
        "   \"This changes a passed list into this function\"\n",
        "   mylist = [1,2,3,4] # This would assign new reference in mylist\n",
        "   print (\"Values inside the function: \", mylist)\n",
        "   return\n",
        "\n",
        "# Now you can call changeme function\n",
        "mylist = [10,20,30]\n",
        "changeme( mylist )\n",
        "print (\"Values outside the function: \", mylist)\n",
        "\n",
        "## Why are the values different?"
      ],
      "execution_count": null,
      "outputs": []
    },
    {
      "cell_type": "markdown",
      "metadata": {
        "id": "ov5Y-MWe14VN"
      },
      "source": [
        "#### Reason :\n",
        "The parameter mylist is local to the function changeme. Changing mylist within the function does not affect mylist. The function accomplishes nothing.\n",
        "As we can see in the function changeme, the new value assinment is just like initialization of a variable of type list as we have done before calling function."
      ]
    },
    {
      "cell_type": "markdown",
      "metadata": {
        "id": "mwob15zD14VN"
      },
      "source": [
        "#### Default Arguments"
      ]
    },
    {
      "cell_type": "code",
      "metadata": {
        "id": "Z1UusNHe14VN"
      },
      "source": [
        "def printinfo( name, age = 25 ):\n",
        "   print (\"Name: \", name)\n",
        "   print (\"Age \", age)\n",
        "   return\n",
        "\n",
        "# Now you can call printinfo function\n",
        "printinfo( age = 19, name = \"Amrta\" )\n",
        "printinfo( name = \"Amy\" )"
      ],
      "execution_count": null,
      "outputs": []
    },
    {
      "cell_type": "code",
      "metadata": {
        "id": "KAQ6p2p914VO"
      },
      "source": [
        "# Be careful though!\n",
        "def gotcha( mylist = [] ):    # Mutable types are retained\n",
        "    mylist.append(10)\n",
        "    print(mylist)\n",
        "\n",
        "gotcha()\n",
        "gotcha()\n",
        "gotcha()"
      ],
      "execution_count": null,
      "outputs": []
    },
    {
      "cell_type": "code",
      "metadata": {
        "id": "HgmWOGdq14VO"
      },
      "source": [
        "def gotcha2(i,j, mydict = {} ):    # Mutable types are retained\n",
        "    mydict.update({i:j})\n",
        "    print(mydict)\n",
        "\n",
        "gotcha2(1,\"a\")\n",
        "gotcha2(2,\"b\")\n",
        "gotcha2(3,\"c\")"
      ],
      "execution_count": null,
      "outputs": []
    },
    {
      "cell_type": "markdown",
      "metadata": {
        "id": "4Pa_toe014VO"
      },
      "source": [
        "#### Global and Local Scope"
      ]
    },
    {
      "cell_type": "markdown",
      "metadata": {
        "id": "4TVXul1914VP"
      },
      "source": [
        "When accessing and using a variable outside of a function's scope, make sure you don't declare it as a local variable inside it."
      ]
    },
    {
      "cell_type": "code",
      "metadata": {
        "id": "eAiwCtdi14VP"
      },
      "source": [
        "x = \"global\"\n",
        "\n",
        "def scope1():\n",
        "    print(x) ## fine\n",
        "    \n",
        "def scope2():\n",
        "    x = \"mylocal\"\n",
        "    print(x) ## fine, since you declared it completely afresh, and not using the global 'x' in any way\n",
        "\n",
        "def scope3():\n",
        "    print(x)      ## not fine\n",
        "    x = \"mylocal\"\n",
        "    print(x)"
      ],
      "execution_count": null,
      "outputs": []
    },
    {
      "cell_type": "code",
      "metadata": {
        "id": "QsGDDmkw14VP"
      },
      "source": [
        "scope1()"
      ],
      "execution_count": null,
      "outputs": []
    },
    {
      "cell_type": "code",
      "metadata": {
        "id": "BlJuslta14VP"
      },
      "source": [
        "scope2()"
      ],
      "execution_count": null,
      "outputs": []
    },
    {
      "cell_type": "code",
      "metadata": {
        "id": "74NpYb0T14VQ"
      },
      "source": [
        "scope3()"
      ],
      "execution_count": null,
      "outputs": []
    },
    {
      "cell_type": "markdown",
      "metadata": {
        "id": "vov0b9x514VQ"
      },
      "source": [
        "#### Variable length params"
      ]
    },
    {
      "cell_type": "code",
      "metadata": {
        "id": "ZrWVJ77D14VQ"
      },
      "source": [
        "def myvars(*v):\n",
        "    print(v)"
      ],
      "execution_count": null,
      "outputs": []
    },
    {
      "cell_type": "code",
      "metadata": {
        "id": "mhwm4-c_14VQ"
      },
      "source": [
        "myvars(1,2,3,4,\"something\",\"else\")"
      ],
      "execution_count": null,
      "outputs": []
    },
    {
      "cell_type": "markdown",
      "metadata": {
        "id": "3bHCvW2E14VR"
      },
      "source": [
        "#### Add docstring"
      ]
    },
    {
      "cell_type": "code",
      "metadata": {
        "id": "G99PVKr314VR"
      },
      "source": [
        "def docstr():\n",
        "    '''A function which highlights the importance of documentation'''\n",
        "    pass"
      ],
      "execution_count": null,
      "outputs": []
    },
    {
      "cell_type": "code",
      "metadata": {
        "id": "SuVmPyf-14VR"
      },
      "source": [
        "docstr.__doc__      # Very useful while writing packages"
      ],
      "execution_count": null,
      "outputs": []
    },
    {
      "cell_type": "markdown",
      "metadata": {
        "id": "Q39YmMyT14VR"
      },
      "source": [
        "#### Functions are first class objects"
      ]
    },
    {
      "cell_type": "code",
      "metadata": {
        "id": "khFnor1D14VS"
      },
      "source": [
        "def temp():\n",
        "    '''Funcs are 1st class'''\n",
        "    pass\n",
        "\n",
        "myfunc = temp   # store them in variable, pass them in functions, read about closures\n",
        "myfunc.__doc__"
      ],
      "execution_count": null,
      "outputs": []
    },
    {
      "cell_type": "code",
      "metadata": {
        "id": "mDUapOhQ14VS"
      },
      "source": [
        "## Let's have some fun with this then!\n",
        "def myfunc(num):\n",
        "    def a(x):\n",
        "        return \"In a \", x\n",
        "    def b(x):\n",
        "        return \"In b \", x\n",
        "    if(num > 5):\n",
        "        return a(num)\n",
        "    else:\n",
        "        return b(num)\n",
        "    \n",
        "myfunc(2)"
      ],
      "execution_count": null,
      "outputs": []
    },
    {
      "cell_type": "markdown",
      "metadata": {
        "id": "SBK2pB1x14VS"
      },
      "source": [
        "Note that this a very trivial example with no real use. To understand the implications of this, please read about **closures** in Python"
      ]
    },
    {
      "cell_type": "markdown",
      "metadata": {
        "id": "bpNVf94B14VS"
      },
      "source": [
        "### Exercise\n",
        "#### Q. Write a function named \"Greet_Human()\" to ask the user for his/her name and print a greeting \"Hello, {name}\".  If the user enters \"No one\", then print \"Valar Morghulis\"."
      ]
    },
    {
      "cell_type": "code",
      "metadata": {
        "id": "uqowMh1f14VT"
      },
      "source": [
        "## Your code here\n",
        "def Greet_Human():\n",
        "    ##Fill\n",
        "    return\n",
        "Greet_Human()"
      ],
      "execution_count": null,
      "outputs": []
    },
    {
      "cell_type": "markdown",
      "metadata": {
        "id": "b67WnN_614VT"
      },
      "source": [
        "#### Q. Write another function that prints the first n elements of fibonacci sequence."
      ]
    },
    {
      "cell_type": "code",
      "metadata": {
        "id": "Id8UF2zK14VT"
      },
      "source": [
        "##Your code here"
      ],
      "execution_count": null,
      "outputs": []
    }
  ]
}